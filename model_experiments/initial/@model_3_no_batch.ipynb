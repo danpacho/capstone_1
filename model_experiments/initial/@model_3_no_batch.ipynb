{
 "cells": [
  {
   "cell_type": "markdown",
   "metadata": {},
   "source": [
    "# 1. Data transformation"
   ]
  },
  {
   "cell_type": "code",
   "execution_count": 1,
   "metadata": {},
   "outputs": [
    {
     "name": "stdout",
     "output_type": "stream",
     "text": [
      "===========================================================================\n",
      "Grid Transformer, option: \n",
      "\tdata_path=model/data\n",
      "\tgrid_size=100\n",
      "\tgrid_resolution=2.0\n",
      "\tgrid_bound=((-50.0, 50.0), (-50.0, 50.0))\n",
      "\tsave_path=model/images/grid_100_res_2.0 initialized.\n",
      "===========================================================================\n"
     ]
    }
   ],
   "source": [
    "from src.prediction.cnn.data_transformer import BinaryImageTransformer\n",
    "\n",
    "transformer = BinaryImageTransformer(\n",
    "    data_dir=\"model/data\", grid_width=100, grid_resolution=2.0\n",
    ")"
   ]
  },
  {
   "cell_type": "code",
   "execution_count": 2,
   "metadata": {},
   "outputs": [
    {
     "name": "stdout",
     "output_type": "stream",
     "text": [
      "===========================================================================\n",
      "Output matrix saved at model/data/output_matrix.npy\n",
      "===========================================================================\n",
      "===========================================================================\n",
      "Loading image matrix from model/images/grid_100_res_2.0/image_matrix.npy\n",
      "===========================================================================\n",
      "===========================================================================\n",
      "Image matrix loaded from model/images/grid_100_res_2.0/image_matrix.npy\n",
      "===========================================================================\n",
      "(750, 200, 200)\n"
     ]
    }
   ],
   "source": [
    "image_tensor = transformer.generate_images()\n",
    "print(image_tensor.shape)"
   ]
  },
  {
   "cell_type": "code",
   "execution_count": 3,
   "metadata": {},
   "outputs": [],
   "source": [
    "def plot_img(images_matrix) -> None:\n",
    "    import matplotlib.pyplot as plt\n",
    "\n",
    "    for idx, image_matrix in enumerate(images_matrix[0:10]):\n",
    "        plt.figure(figsize=(3, 3))\n",
    "        plt.imshow(\n",
    "            image_matrix,\n",
    "            cmap=\"gray\",\n",
    "            # interpolation=\"nearest\",\n",
    "        )  # Display the image using a grayscale colormap\n",
    "        plt.title(f\"Data : {idx+1}\")\n",
    "        plt.show()\n",
    "\n",
    "\n",
    "# plot_img(image_tensor)"
   ]
  },
  {
   "cell_type": "markdown",
   "metadata": {},
   "source": [
    "# 2. Import modules"
   ]
  },
  {
   "cell_type": "code",
   "execution_count": 4,
   "metadata": {},
   "outputs": [],
   "source": [
    "import torch\n",
    "import torch.nn as nn\n",
    "import torch.optim as optim\n",
    "from torch.utils.data import Dataset, DataLoader\n",
    "import torchvision.transforms as transforms\n",
    "\n",
    "import numpy as np\n",
    "from scipy.stats import spearmanr\n",
    "\n",
    "import os\n",
    "from typing import Callable, Union, Literal, Tuple"
   ]
  },
  {
   "cell_type": "markdown",
   "metadata": {},
   "source": [
    "# 3. Configs and Hyperparameters"
   ]
  },
  {
   "cell_type": "markdown",
   "metadata": {},
   "source": [
    "## 3.1 Setup configs"
   ]
  },
  {
   "cell_type": "code",
   "execution_count": 5,
   "metadata": {},
   "outputs": [
    {
     "name": "stdout",
     "output_type": "stream",
     "text": [
      "Using device: mps\n"
     ]
    }
   ],
   "source": [
    "# Device configuration: Use GPU if available\n",
    "if torch.backends.mps.is_available():\n",
    "    device = torch.device(\"mps\")\n",
    "else:\n",
    "    device = torch.device(\"cpu\")\n",
    "print(f\"Using device: {device}\")\n",
    "\n",
    "# Data path\n",
    "IMAGE_MATRIX_PATH = transformer.image_matrix_path\n",
    "OUTPUT_MATRIX_PATH = transformer.output_matrix_path"
   ]
  },
  {
   "cell_type": "markdown",
   "metadata": {},
   "source": [
    "## 3.2 Hyperparameters"
   ]
  },
  {
   "cell_type": "code",
   "execution_count": 6,
   "metadata": {},
   "outputs": [],
   "source": [
    "# Hyperparameters\n",
    "MINI_BATCH_SIZE = 64\n",
    "TRAIN_RATIO = 0.75\n",
    "NUM_EPOCHS = 100\n",
    "EARLY_STOP_CNT = 15  # inf can be used to disable early stopping e.g) float('inf')\n",
    "LEARNING_RATE = 0.0025\n",
    "WEIGHT_DECAY = 0.0001"
   ]
  },
  {
   "cell_type": "markdown",
   "metadata": {},
   "source": [
    "# 4. Load data set"
   ]
  },
  {
   "cell_type": "markdown",
   "metadata": {},
   "source": [
    "## 4.1 Define data loader"
   ]
  },
  {
   "cell_type": "code",
   "execution_count": 7,
   "metadata": {},
   "outputs": [],
   "source": [
    "def get_data_set(\n",
    "    numpy_tensor_path: str, train_ratio: float, data_type: Literal[\"image\", \"tensor\"]\n",
    ") -> dict[Literal[\"train\", \"test\"], torch.Tensor]:\n",
    "    \"\"\"\n",
    "    Loads data from a .npy file, splits it into training and testing sets,\n",
    "    and converts them to PyTorch tensors.\n",
    "\n",
    "    Args:\n",
    "        numpy_tensor_path (str): Path to the .npy file.\n",
    "        train_ratio (float): Proportion of data to use for training.\n",
    "        data_type (Literal[\"image\", \"tensor\"]): Type of data (\"image\" or \"tensor\").\n",
    "\n",
    "    Returns:\n",
    "        dict: Dictionary containing 'train' and 'test' tensors.\n",
    "    \"\"\"\n",
    "    # Load .npy data\n",
    "    data = np.load(\n",
    "        numpy_tensor_path\n",
    "    )  # Assuming shape is (batch_size, height, width) or (batch_size, features)\n",
    "    data_len = len(data)\n",
    "    split_index = int(data_len * train_ratio)\n",
    "\n",
    "    # Split data into training and testing\n",
    "    train_set = data[:split_index]\n",
    "    test_set = data[split_index:]\n",
    "\n",
    "    # Convert NumPy arrays to PyTorch tensors\n",
    "    train_tensor = torch.from_numpy(train_set).float()\n",
    "    test_tensor = torch.from_numpy(test_set).float()\n",
    "\n",
    "    if data_type == \"image\":\n",
    "        # Add channel dimension for grayscale images: (batch_size, 1, N, N)\n",
    "        train_tensor = train_tensor.unsqueeze(1)\n",
    "        test_tensor = test_tensor.unsqueeze(1)\n",
    "\n",
    "    return {\"train\": train_tensor, \"test\": test_tensor}\n",
    "\n",
    "\n",
    "class PhysicsImageDataset(Dataset):\n",
    "    \"\"\"\n",
    "    Custom Dataset for loading physics-related images and their corresponding targets.\n",
    "    Applies data augmentation (horizontal flip) to the images.\n",
    "    \"\"\"\n",
    "\n",
    "    def __init__(\n",
    "        self,\n",
    "        image_tensor: torch.Tensor,\n",
    "        output_tensor: torch.Tensor,\n",
    "        augment: bool = False,\n",
    "        image_tensor_transformer: Union[\n",
    "            Callable[[torch.Tensor], torch.Tensor], None\n",
    "        ] = None,\n",
    "        output_tensor_transformer: Union[\n",
    "            Callable[[torch.Tensor], torch.Tensor], None\n",
    "        ] = None,\n",
    "    ):\n",
    "        \"\"\"\n",
    "        Args:\n",
    "            image_tensor (torch.Tensor): Tensor of images with shape (num_samples, 1, N, N).\n",
    "            output_tensor (torch.Tensor): Tensor of targets with shape (num_samples, 3).\n",
    "            augment (bool, optional): Whether to apply data augmentation. Defaults to False.\n",
    "            image_tensor_transformer (Union[Callable[[torch.Tensor], torch.Tensor], None], optional): Transformation function for the image tensor. Defaults to None.\n",
    "            output_tensor_transformer (Union[Callable[[torch.Tensor], torch.Tensor], None], optional): Transformation function for the output tensor. Defaults to None.\n",
    "        \"\"\"\n",
    "        self.image_tensor = (\n",
    "            image_tensor\n",
    "            if image_tensor_transformer is None\n",
    "            else image_tensor_transformer(image_tensor)\n",
    "        )\n",
    "        self.output_tensor = (\n",
    "            output_tensor\n",
    "            if output_tensor_transformer is None\n",
    "            else output_tensor_transformer(output_tensor)\n",
    "        )\n",
    "        self.augment = augment\n",
    "        self.origin_data_size = len(image_tensor)\n",
    "        self.transform = (\n",
    "            transforms.Compose(\n",
    "                [transforms.RandomHorizontalFlip(p=1.0)]  # Always flip when augmenting\n",
    "            )\n",
    "            if self.augment\n",
    "            else None\n",
    "        )\n",
    "\n",
    "    def __len__(self):\n",
    "        # If augmenting, double the dataset size\n",
    "        return self.origin_data_size * 2 if self.augment else self.origin_data_size\n",
    "\n",
    "    def __getitem__(self, idx):\n",
    "        if self.augment and idx >= self.origin_data_size:\n",
    "            # Augmented sample: flip the image horizontally\n",
    "            original_idx = idx - self.origin_data_size\n",
    "            image = self.image_tensor[original_idx]\n",
    "            image = self.transform(image)\n",
    "            target = self.output_tensor[original_idx]\n",
    "        else:\n",
    "            # Original sample\n",
    "            image = self.image_tensor[idx]\n",
    "            target = self.output_tensor[idx]\n",
    "\n",
    "        return image, target"
   ]
  },
  {
   "cell_type": "markdown",
   "metadata": {},
   "source": [
    "## 4.2 Data loading process"
   ]
  },
  {
   "cell_type": "code",
   "execution_count": 8,
   "metadata": {},
   "outputs": [
    {
     "name": "stdout",
     "output_type": "stream",
     "text": [
      "Number of training samples: 1124\n",
      "Number of testing samples: 376\n"
     ]
    }
   ],
   "source": [
    "# Ensure that the data paths exist\n",
    "if not os.path.exists(IMAGE_MATRIX_PATH):\n",
    "    raise FileNotFoundError(f\"Image data file not found at {IMAGE_MATRIX_PATH}\")\n",
    "if not os.path.exists(OUTPUT_MATRIX_PATH):\n",
    "    raise FileNotFoundError(f\"Output data file not found at {OUTPUT_MATRIX_PATH}\")\n",
    "\n",
    "\n",
    "# Load image and output data\n",
    "image_data = get_data_set(\n",
    "    numpy_tensor_path=IMAGE_MATRIX_PATH,\n",
    "    train_ratio=TRAIN_RATIO,\n",
    "    data_type=\"image\",\n",
    ")\n",
    "output_data = get_data_set(\n",
    "    numpy_tensor_path=OUTPUT_MATRIX_PATH,\n",
    "    train_ratio=TRAIN_RATIO,\n",
    "    data_type=\"tensor\",\n",
    ")\n",
    "\n",
    "# Create training and testing datasets\n",
    "# Apply data augmentation (flipping) only to the training dataset\n",
    "train_dataset = PhysicsImageDataset(\n",
    "    image_tensor=image_data[\"train\"],\n",
    "    output_tensor=output_data[\"train\"],\n",
    "    augment=True,  # Enable augmentation for training\n",
    ")\n",
    "test_dataset = PhysicsImageDataset(\n",
    "    image_tensor=image_data[\"test\"],\n",
    "    output_tensor=output_data[\"test\"],\n",
    "    augment=True,  # No augmentation for testing\n",
    ")\n",
    "\n",
    "# Create DataLoaders\n",
    "train_loader = DataLoader(\n",
    "    train_dataset,\n",
    "    batch_size=MINI_BATCH_SIZE,\n",
    "    shuffle=True,\n",
    "    num_workers=0,\n",
    "    pin_memory=True,\n",
    ")\n",
    "test_loader = DataLoader(\n",
    "    test_dataset,\n",
    "    batch_size=MINI_BATCH_SIZE,\n",
    "    shuffle=False,\n",
    "    num_workers=0,\n",
    "    pin_memory=True,\n",
    ")\n",
    "\n",
    "print(f\"Number of training samples: {len(train_dataset)}\")\n",
    "print(f\"Number of testing samples: {len(test_dataset)}\")"
   ]
  },
  {
   "cell_type": "markdown",
   "metadata": {},
   "source": [
    "# 5. Model architecture"
   ]
  },
  {
   "cell_type": "code",
   "execution_count": 9,
   "metadata": {},
   "outputs": [],
   "source": [
    "import torch\n",
    "import torch.nn as nn\n",
    "\n",
    "\n",
    "class Model(nn.Module):\n",
    "    def define_model_name(self, model_name: str) -> None:\n",
    "        self.model_name = model_name\n",
    "\n",
    "    def __init__(self):\n",
    "        super().__init__()\n",
    "\n",
    "        # Formula :: NewImageSize = (PrevImageSize - KernelSize + 2PaddingSize) / Stride + 1\n",
    "\n",
    "        self.conv_layer_1 = nn.Sequential(\n",
    "            nn.Conv2d(1, 32, kernel_size=3, stride=1, padding=1),\n",
    "            # @Layer1 = 1x200x200 -> 32x200x200\n",
    "            nn.LeakyReLU(),\n",
    "            nn.MaxPool2d(kernel_size=2, stride=2),\n",
    "            # @Layer2 = 32x200x200 -> 32x100x100\n",
    "        )\n",
    "\n",
    "        self.conv_layer_2 = nn.Sequential(\n",
    "            nn.Conv2d(32, 64, kernel_size=3, stride=1, padding=1),\n",
    "            # @Layer3 = 32x100x100 -> 64x100x100\n",
    "            nn.LeakyReLU(),\n",
    "            nn.MaxPool2d(kernel_size=2, stride=2),\n",
    "            # @Layer4 = 64x100x100 -> 64x50x50\n",
    "        )\n",
    "\n",
    "        self.conv_layer_3 = nn.Sequential(\n",
    "            nn.Conv2d(64, 128, kernel_size=5, stride=2, padding=1),\n",
    "            # @Layer5 = 64x50x50 -> 128x24x24\n",
    "            nn.LeakyReLU(),\n",
    "            nn.MaxPool2d(kernel_size=2, stride=2),\n",
    "            # @Layer6 = 128x24x24 -> 128x12x12\n",
    "        )\n",
    "\n",
    "        self.fc_layer = nn.Sequential(\n",
    "            nn.Linear(128 * 12 * 12, 1000),\n",
    "            nn.BatchNorm1d(1000),\n",
    "            nn.LeakyReLU(),\n",
    "            nn.Linear(1000, 200),\n",
    "            nn.ReLU(),\n",
    "            nn.Linear(200, 3),\n",
    "        )\n",
    "\n",
    "    def forward(self, x):\n",
    "        x = self.conv_layer_1(x)\n",
    "        x = self.conv_layer_2(x)\n",
    "        x = self.conv_layer_3(x)\n",
    "\n",
    "        x = x.view(x.size(0), -1)  # Flatten the tensor\n",
    "\n",
    "        x = self.fc_layer(x)\n",
    "\n",
    "        return x"
   ]
  },
  {
   "cell_type": "code",
   "execution_count": 10,
   "metadata": {},
   "outputs": [],
   "source": [
    "from datetime import datetime\n",
    "import io\n",
    "import sys\n",
    "import uuid\n",
    "import hashlib\n",
    "\n",
    "\n",
    "def capture_print_output(func, *args, **kwargs):\n",
    "    # Create a string IO stream to capture the output\n",
    "    captured_output = io.StringIO()\n",
    "\n",
    "    # Redirect stdout to the StringIO object\n",
    "    sys.stdout = captured_output\n",
    "\n",
    "    # Execute the function\n",
    "    func(*args, **kwargs)\n",
    "\n",
    "    # Reset stdout to default\n",
    "    sys.stdout = sys.__stdout__\n",
    "\n",
    "    # Get the output from the StringIO object\n",
    "    output_value = captured_output.getvalue()\n",
    "\n",
    "    # Close the StringIO stream\n",
    "    captured_output.close()\n",
    "\n",
    "    # Return the captured output\n",
    "    return output_value\n",
    "\n",
    "\n",
    "def generate_uuid_from_seed(seed_str: str) -> uuid.UUID:\n",
    "    # Create an MD5 hash from the seed string\n",
    "    hash_object = hashlib.md5(seed_str.encode())\n",
    "\n",
    "    # Use the hash to create a UUID\n",
    "    return uuid.UUID(hash_object.hexdigest())\n",
    "\n",
    "\n",
    "def create_model_save_storage(\n",
    "    model_name: str, model_architecture: str, hyperparameter_dict: dict[str, any]\n",
    ") -> Tuple[str, str, str]:\n",
    "    \"\"\"\n",
    "    Create a dir for model experiment and record the model configuration.\n",
    "\n",
    "    Args:\n",
    "        model_name (str): _description_\n",
    "        model_architecture (str): _description_\n",
    "        hyperparameter_dict (dict[str, any]): _description_\n",
    "\n",
    "    Returns:\n",
    "        str: model save directory path\n",
    "    \"\"\"\n",
    "    # Create a directory to store the model and its explanation\n",
    "    model_uuid = generate_uuid_from_seed(model_architecture)\n",
    "    model_dir = f\"model/models/{model_name}_{model_uuid}\"\n",
    "    os.makedirs(model_dir, exist_ok=True)\n",
    "\n",
    "    hyperparameter_description_str = \"\\n\".join(\n",
    "        [f\"> {key} : {value}\" for key, value in hyperparameter_dict.items()]\n",
    "    )\n",
    "\n",
    "    model_config_path = f\"{model_dir}/config.txt\"\n",
    "    model_weight_path = f\"{model_dir}/model.pth\"\n",
    "\n",
    "    # Save the model explanation to a text file\n",
    "    with open(f\"{model_dir}/config.txt\", \"w\") as f:\n",
    "        f.write(f\"\\n{\"-\" * 100}\\n\")\n",
    "        f.write(f\"Generated at : {datetime.now().strftime('%Y-%m-%d %H:%M:%S')}\")\n",
    "        f.write(\"\\n\")\n",
    "        f.write(model_name)\n",
    "        f.write(f\"\\n{\"-\" * 100}\\n\")\n",
    "        f.write(\"Hyperparameters\\n\")\n",
    "        f.write(hyperparameter_description_str)\n",
    "        f.write(f\"\\n{\"-\" * 100}\\n\")\n",
    "        f.write(\"Model Architecture\\n\")\n",
    "        f.write(model_architecture)\n",
    "\n",
    "    return model_dir, model_config_path, model_weight_path"
   ]
  },
  {
   "cell_type": "code",
   "execution_count": 11,
   "metadata": {},
   "outputs": [],
   "source": [
    "model = Model().to(device)"
   ]
  },
  {
   "cell_type": "markdown",
   "metadata": {},
   "source": [
    "# 6. Loss function, Optimizer"
   ]
  },
  {
   "cell_type": "code",
   "execution_count": 12,
   "metadata": {},
   "outputs": [],
   "source": [
    "loss_function = nn.MSELoss()\n",
    "\n",
    "optimizer = optim.Adam(\n",
    "    model.parameters(), lr=LEARNING_RATE\n",
    ")  # L2 regularization via weight_decay"
   ]
  },
  {
   "cell_type": "markdown",
   "metadata": {},
   "source": [
    "# 6(Optional). Learning rate scheduler"
   ]
  },
  {
   "cell_type": "code",
   "execution_count": 13,
   "metadata": {},
   "outputs": [],
   "source": [
    "from torch.optim import lr_scheduler\n",
    "\n",
    "STEP_SIZE = NUM_EPOCHS / 10\n",
    "# Use a learning rate scheduler that reduces LR by a factor of 0.1 every 10 epochs\n",
    "scheduler = lr_scheduler.StepLR(optimizer, step_size=STEP_SIZE, gamma=0.1)"
   ]
  },
  {
   "cell_type": "markdown",
   "metadata": {},
   "source": [
    "# 7. Training"
   ]
  },
  {
   "cell_type": "markdown",
   "metadata": {},
   "source": [
    "## 7.1 Initialize model storage"
   ]
  },
  {
   "cell_type": "code",
   "execution_count": 14,
   "metadata": {},
   "outputs": [],
   "source": [
    "from torchsummary import summary\n",
    "\n",
    "# Define the model name and save storage\n",
    "model.define_model_name(\"3layer_cnn_batch_norm\")\n",
    "\n",
    "# Temporary move model to CPU for summary\n",
    "model_details = capture_print_output(\n",
    "    summary, model.to(\"cpu\"), input_size=(1, 200, 200), device=\"cpu\"\n",
    ")\n",
    "\n",
    "# Back to original device, MPS\n",
    "# Note, -1 = <batch size> is not fixed.\n",
    "model.to(device)\n",
    "\n",
    "# Create model save storage for experiment\n",
    "model_save_path, model_config_path, model_weight_path = create_model_save_storage(\n",
    "    model_name=model.model_name,\n",
    "    model_architecture=model_details,\n",
    "    hyperparameter_dict={\n",
    "        \"MINI_BATCH_SIZE\": MINI_BATCH_SIZE,\n",
    "        \"TRAIN_RATIO\": TRAIN_RATIO,\n",
    "        \"NUM_EPOCHS\": NUM_EPOCHS,\n",
    "        \"EARLY_STOP_CNT\": EARLY_STOP_CNT,\n",
    "        \"LEARNING_RATE\": LEARNING_RATE,\n",
    "        \"WEIGHT_DECAY\": WEIGHT_DECAY,\n",
    "        \"LOSS_FUNCTION\": loss_function.__str__(),\n",
    "        \"OPTIMIZER\": optimizer.__str__(),\n",
    "        # \"SCHEDULER\": scheduler.__str__(),\n",
    "    },\n",
    ")"
   ]
  },
  {
   "cell_type": "markdown",
   "metadata": {},
   "source": [
    "## 7.2 Training process"
   ]
  },
  {
   "cell_type": "code",
   "execution_count": 15,
   "metadata": {},
   "outputs": [],
   "source": [
    "def save_model_training_result(\n",
    "    epoch_end: int,\n",
    "    train_loss_record: list[float],\n",
    "    val_loss_record: list[float],\n",
    "):\n",
    "    # Save the training result to a text file\n",
    "    with open(f\"{model_save_path}/training_result.json\", \"w\") as f:\n",
    "        f.write(\n",
    "            f'{{\"epoch_end\": {epoch_end}, \"train_loss\": {train_loss_record}, \"val_loss\": {val_loss_record}}}'\n",
    "        )\n",
    "\n",
    "\n",
    "def plot_loss_curve(\n",
    "    epoch_end: int, train_loss_record: list[float], val_loss_record: list[float]\n",
    "):\n",
    "    import matplotlib.pyplot as plt\n",
    "\n",
    "    plt.figure(figsize=(10, 5))\n",
    "\n",
    "    epoch_end_linspace = np.linspace(0, epoch_end, len(train_loss_record))\n",
    "    plt.plot(\n",
    "        epoch_end_linspace,\n",
    "        train_loss_record,\n",
    "        label=\"Train Loss\",\n",
    "        color=\"black\",\n",
    "        linestyle=\"-\",\n",
    "    )\n",
    "    val_linspace = np.linspace(0, epoch_end, len(val_loss_record))\n",
    "    plt.plot(\n",
    "        val_linspace, val_loss_record, label=\"Val Loss\", color=\"green\", linestyle=\"--\"\n",
    "    )\n",
    "    plt.xlabel(\"Iteration\")\n",
    "    plt.ylabel(\"Loss\")\n",
    "    plt.legend()\n",
    "    plt.title(f\"Cost Curve (Epochs: {epoch_end}) for model {model.model_name}\")\n",
    "    plt.grid(True)\n",
    "    plt.show()"
   ]
  },
  {
   "cell_type": "code",
   "execution_count": 16,
   "metadata": {},
   "outputs": [],
   "source": [
    "def report_epoch(\n",
    "    epoch: int,\n",
    "    learning_rate: float,\n",
    "    epoch_train_loss,\n",
    "    epoch_val_loss,\n",
    "    avg_spearman_corr,\n",
    "):\n",
    "    print(\n",
    "        f\"Epoch {epoch+1}/{NUM_EPOCHS} | Learning Rate: {learning_rate:.4f} | Train Loss: {epoch_train_loss:.4f} | Val Loss: {epoch_val_loss:.4f} | Avg Spearman: {avg_spearman_corr:.4f}\"\n",
    "    )\n",
    "\n",
    "\n",
    "def train(\n",
    "    model,\n",
    "    train_loader,\n",
    "    test_loader,\n",
    "    optimizer,\n",
    "    loss_function,\n",
    "    epoch_count: int,\n",
    "    early_stop_cnt: int,\n",
    "    learning_scheduler: Union[lr_scheduler.StepLR, None] = None,\n",
    ") -> Tuple[int, list[float], list[float]]:\n",
    "    print(\"Starting training...\")\n",
    "\n",
    "    best_val_loss = float(\"inf\")\n",
    "    early_stopping_counter = 0\n",
    "\n",
    "    train_loss_record = []\n",
    "    val_loss_record = []\n",
    "\n",
    "    for epoch in range(epoch_count):\n",
    "        model.train()\n",
    "        running_train_loss = 0.0\n",
    "        for inputs, targets in train_loader:\n",
    "            # Move to GPU\n",
    "            inputs = inputs.to(device)\n",
    "            targets = targets.to(device)\n",
    "\n",
    "            # Zero the parameter gradients\n",
    "            optimizer.zero_grad()\n",
    "\n",
    "            # Forward pass\n",
    "            predict = model(inputs)\n",
    "            # Compute loss\n",
    "            val_loss = loss_function(predict, targets)\n",
    "\n",
    "            # Backward pass\n",
    "            val_loss.backward()\n",
    "            # Optimize\n",
    "            optimizer.step()\n",
    "            # Learning rate scheduler if available\n",
    "            if learning_scheduler is not None:\n",
    "                learning_scheduler.step()\n",
    "\n",
    "            # Record the loss\n",
    "            train_loss = val_loss.item()\n",
    "            train_loss_record.append(train_loss)\n",
    "\n",
    "            running_train_loss += train_loss * inputs.size(0)  # Accumulate loss\n",
    "\n",
    "        epoch_train_loss = running_train_loss / len(train_loader.dataset)\n",
    "\n",
    "        # Validation phase\n",
    "        model.eval()  # Freeze the model\n",
    "        running_val_loss = 0.0\n",
    "        val_outputs = []\n",
    "        val_targets = []\n",
    "\n",
    "        with torch.no_grad():\n",
    "            for inputs, targets in test_loader:\n",
    "                inputs = inputs.to(device)\n",
    "                targets = targets.to(device)\n",
    "\n",
    "                predict = model(inputs)\n",
    "\n",
    "                val_loss = loss_function(predict, targets)\n",
    "                val_loss_record.append(val_loss.item())\n",
    "\n",
    "                running_val_loss += val_loss.item() * inputs.size(0)\n",
    "\n",
    "                val_outputs.append(predict.cpu().numpy())\n",
    "                val_targets.append(targets.cpu().numpy())\n",
    "\n",
    "        epoch_val_loss = running_val_loss / len(test_loader.dataset)\n",
    "\n",
    "        # Spearman correlation calc (experiment for G.A)\n",
    "        val_outputs_np = np.concatenate(val_outputs, axis=0)\n",
    "        val_targets_np = np.concatenate(val_targets, axis=0)\n",
    "\n",
    "        spearman_correlation = []\n",
    "        for i in range(val_targets_np.shape[1]):\n",
    "            corr, _ = spearmanr(val_targets_np[:, i], val_outputs_np[:, i])\n",
    "            spearman_correlation.append(corr)\n",
    "        avg_spearman_corr = np.mean(spearman_correlation)\n",
    "\n",
    "        # Report the metrics\n",
    "        report_epoch(\n",
    "            epoch,\n",
    "            learning_rate=optimizer.param_groups[0][\"lr\"],\n",
    "            epoch_train_loss=epoch_train_loss,\n",
    "            epoch_val_loss=epoch_val_loss,\n",
    "            avg_spearman_corr=avg_spearman_corr,\n",
    "        )\n",
    "\n",
    "        # Early stopping Check\n",
    "        is_new_best = epoch_val_loss < best_val_loss\n",
    "        if is_new_best:\n",
    "            best_val_loss = epoch_val_loss\n",
    "            early_stopping_counter = 0\n",
    "            torch.save(model.state_dict(), model_weight_path)\n",
    "        else:\n",
    "            early_stopping_counter += 1\n",
    "            should_stop = early_stopping_counter >= early_stop_cnt\n",
    "            if should_stop:\n",
    "                print(\"Early stopping triggered.\")\n",
    "\n",
    "                return epoch, train_loss_record, val_loss_record\n",
    "\n",
    "    return epoch, train_loss_record, val_loss_record"
   ]
  },
  {
   "cell_type": "code",
   "execution_count": 17,
   "metadata": {},
   "outputs": [
    {
     "name": "stdout",
     "output_type": "stream",
     "text": [
      "Starting training...\n",
      "Epoch 1/100 | Learning Rate: 0.0025 | Train Loss: 95256.1686 | Val Loss: 40719.9189 | Avg Spearman: 0.1274\n",
      "Epoch 2/100 | Learning Rate: 0.0025 | Train Loss: 15110.0789 | Val Loss: 19433.5899 | Avg Spearman: 0.3640\n",
      "Epoch 3/100 | Learning Rate: 0.0025 | Train Loss: 3685.5726 | Val Loss: 18972.3686 | Avg Spearman: 0.2518\n",
      "Epoch 4/100 | Learning Rate: 0.0025 | Train Loss: 2070.5233 | Val Loss: 20164.1654 | Avg Spearman: 0.3492\n",
      "Epoch 5/100 | Learning Rate: 0.0025 | Train Loss: 2446.8049 | Val Loss: 17671.0444 | Avg Spearman: 0.3313\n",
      "Epoch 6/100 | Learning Rate: 0.0025 | Train Loss: 2120.6286 | Val Loss: 13402.9865 | Avg Spearman: 0.3548\n",
      "Epoch 7/100 | Learning Rate: 0.0025 | Train Loss: 1737.7965 | Val Loss: 14382.6975 | Avg Spearman: 0.3637\n",
      "Epoch 8/100 | Learning Rate: 0.0025 | Train Loss: 1947.0736 | Val Loss: 12269.5700 | Avg Spearman: 0.3918\n",
      "Epoch 9/100 | Learning Rate: 0.0025 | Train Loss: 2345.4090 | Val Loss: 14526.9327 | Avg Spearman: 0.1584\n",
      "Epoch 10/100 | Learning Rate: 0.0025 | Train Loss: 1459.5540 | Val Loss: 11223.3429 | Avg Spearman: 0.3417\n",
      "Epoch 11/100 | Learning Rate: 0.0025 | Train Loss: 1548.0334 | Val Loss: 13589.8744 | Avg Spearman: 0.3597\n",
      "Epoch 12/100 | Learning Rate: 0.0025 | Train Loss: 2216.0358 | Val Loss: 10425.6908 | Avg Spearman: 0.3921\n",
      "Epoch 13/100 | Learning Rate: 0.0025 | Train Loss: 980.8117 | Val Loss: 10749.2377 | Avg Spearman: 0.3005\n",
      "Epoch 14/100 | Learning Rate: 0.0025 | Train Loss: 1502.4304 | Val Loss: 10797.0915 | Avg Spearman: 0.3636\n",
      "Epoch 15/100 | Learning Rate: 0.0025 | Train Loss: 1492.9132 | Val Loss: 9799.1248 | Avg Spearman: 0.3077\n",
      "Epoch 16/100 | Learning Rate: 0.0025 | Train Loss: 1424.3442 | Val Loss: 10823.2508 | Avg Spearman: 0.3957\n",
      "Epoch 17/100 | Learning Rate: 0.0025 | Train Loss: 1720.5378 | Val Loss: 13313.0245 | Avg Spearman: 0.4008\n",
      "Epoch 18/100 | Learning Rate: 0.0025 | Train Loss: 1569.0649 | Val Loss: 11020.8713 | Avg Spearman: 0.3437\n",
      "Epoch 19/100 | Learning Rate: 0.0025 | Train Loss: 1190.4548 | Val Loss: 10998.6266 | Avg Spearman: 0.3713\n",
      "Epoch 20/100 | Learning Rate: 0.0025 | Train Loss: 3218.3147 | Val Loss: 13885.9424 | Avg Spearman: 0.2928\n",
      "Epoch 21/100 | Learning Rate: 0.0025 | Train Loss: 1621.9411 | Val Loss: 11977.4977 | Avg Spearman: 0.4046\n",
      "Epoch 22/100 | Learning Rate: 0.0025 | Train Loss: 1359.8438 | Val Loss: 13139.8260 | Avg Spearman: 0.1510\n",
      "Epoch 23/100 | Learning Rate: 0.0025 | Train Loss: 923.6314 | Val Loss: 14532.5792 | Avg Spearman: 0.3922\n",
      "Epoch 24/100 | Learning Rate: 0.0025 | Train Loss: 1779.2120 | Val Loss: 17065.9271 | Avg Spearman: 0.3863\n",
      "Epoch 25/100 | Learning Rate: 0.0025 | Train Loss: 736.8640 | Val Loss: 12749.3464 | Avg Spearman: 0.1242\n",
      "Epoch 26/100 | Learning Rate: 0.0025 | Train Loss: 1246.2413 | Val Loss: 12577.7884 | Avg Spearman: 0.3661\n",
      "Epoch 27/100 | Learning Rate: 0.0025 | Train Loss: 1831.3980 | Val Loss: 14851.0251 | Avg Spearman: 0.3834\n",
      "Epoch 28/100 | Learning Rate: 0.0025 | Train Loss: 815.2137 | Val Loss: 11678.9819 | Avg Spearman: 0.3831\n",
      "Epoch 29/100 | Learning Rate: 0.0025 | Train Loss: 1241.7311 | Val Loss: 15308.7416 | Avg Spearman: 0.3675\n",
      "Epoch 30/100 | Learning Rate: 0.0025 | Train Loss: 868.6391 | Val Loss: 10531.7585 | Avg Spearman: 0.3710\n",
      "Early stopping triggered.\n",
      "Loaded the best model based on validation loss.\n",
      "Final Validation Loss: 9799.1248 | Final Avg Spearman: 0.3077\n"
     ]
    }
   ],
   "source": [
    "final_epoch, train_loss_record, val_loss_record = train(\n",
    "    model=model,\n",
    "    train_loader=train_loader,\n",
    "    test_loader=test_loader,\n",
    "    optimizer=optimizer,\n",
    "    loss_function=loss_function,\n",
    "    epoch_count=NUM_EPOCHS,\n",
    "    early_stop_cnt=EARLY_STOP_CNT,\n",
    "    # learning_scheduler=scheduler,\n",
    ")"
   ]
  },
  {
   "cell_type": "code",
   "execution_count": 18,
   "metadata": {},
   "outputs": [
    {
     "data": {
      "image/png": "[encoded data removed]",
      "text/plain": [
       "<Figure size 1000x500 with 1 Axes>"
      ]
     },
     "metadata": {},
     "output_type": "display_data"
    }
   ],
   "source": [
    "save_model_training_result(final_epoch, train_loss_record, val_loss_record)\n",
    "\n",
    "plot_loss_curve(\n",
    "    epoch_end=final_epoch,\n",
    "    train_loss_record=train_loss_record,\n",
    "    val_loss_record=val_loss_record,\n",
    ")"
   ]
  },
  {
   "cell_type": "markdown",
   "metadata": {},
   "source": [
    "# 8. Evaluation(Validation)"
   ]
  },
  {
   "cell_type": "code",
   "execution_count": 19,
   "metadata": {},
   "outputs": [
    {
     "name": "stderr",
     "output_type": "stream",
     "text": [
      "/var/folders/x6/l7qs54m50blbxn2wj8_dbm8m0000gn/T/ipykernel_11320/951560879.py:2: FutureWarning: You are using `torch.load` with `weights_only=False` (the current default value), which uses the default pickle module implicitly. It is possible to construct malicious pickle data which will execute arbitrary code during unpickling (See https://github.com/pytorch/pytorch/blob/main/SECURITY.md#untrusted-models for more details). In a future release, the default value for `weights_only` will be flipped to `True`. This limits the functions that could be executed during unpickling. Arbitrary objects will no longer be allowed to be loaded via this mode unless they are explicitly allowlisted by the user via `torch.serialization.add_safe_globals`. We recommend you start setting `weights_only=True` for any use case where you don't have full control of the loaded file. Please open an issue on GitHub for any issues related to this experimental feature.\n",
      "  model.load_state_dict(torch.load(model_weight_path))\n"
     ]
    }
   ],
   "source": [
    "def load_best_model(model) -> None:\n",
    "    model.load_state_dict(torch.load(model_weight_path))\n",
    "    model.eval()\n",
    "    print(\"Loaded the best model based on validation loss.\")\n",
    "\n",
    "\n",
    "model = Model().to(device)\n",
    "load_best_model(model)"
   ]
  },
  {
   "cell_type": "markdown",
   "metadata": {},
   "source": [
    "# 9. Inference by test-set"
   ]
  },
  {
   "cell_type": "code",
   "execution_count": 20,
   "metadata": {},
   "outputs": [],
   "source": [
    "running_val_loss = 0.0\n",
    "val_outputs = []\n",
    "val_targets = []\n",
    "\n",
    "with torch.no_grad():\n",
    "    for inputs, targets in test_loader:\n",
    "        inputs = inputs.to(device)\n",
    "        targets = targets.to(device)\n",
    "\n",
    "        predict = model(inputs)\n",
    "        val_loss = loss_function(predict, targets)\n",
    "\n",
    "        running_val_loss += val_loss.item() * inputs.size(0)\n",
    "\n",
    "        val_outputs.append(predict.cpu().numpy())\n",
    "        val_targets.append(targets.cpu().numpy())\n",
    "\n",
    "final_val_loss = running_val_loss / len(test_loader.dataset)\n",
    "\n",
    "# Concatenate all outputs and targets for Spearman correlation\n",
    "val_outputs_np = np.concatenate(val_outputs, axis=0)\n",
    "val_targets_np = np.concatenate(val_targets, axis=0)\n",
    "\n",
    "spearman_correlation = []\n",
    "for i in range(val_targets_np.shape[1]):\n",
    "    corr, _ = spearmanr(val_targets_np[:, i], val_outputs_np[:, i])\n",
    "    spearman_correlation.append(corr)\n",
    "final_avg_spearman_corr = np.mean(spearman_correlation)\n",
    "\n",
    "print(\n",
    "    f\"Final Validation Loss: {final_val_loss:.4f} | Final Avg Spearman: {final_avg_spearman_corr:.4f}\"\n",
    ")"
   ]
  }
 ],
 "metadata": {
  "kernelspec": {
   "display_name": ".venv",
   "language": "python",
   "name": "python3"
  },
  "language_info": {
   "codemirror_mode": {
    "name": "ipython",
    "version": 3
   },
   "file_extension": ".py",
   "mimetype": "text/x-python",
   "name": "python",
   "nbconvert_exporter": "python",
   "pygments_lexer": "ipython3",
   "version": "3.12.5"
  }
 },
 "nbformat": 4,
 "nbformat_minor": 2
}
