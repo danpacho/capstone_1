{
 "cells": [
  {
   "cell_type": "markdown",
   "metadata": {},
   "source": [
    "# Define genetic algorithm suite"
   ]
  },
  {
   "cell_type": "code",
   "execution_count": 1,
   "metadata": {},
   "outputs": [],
   "source": [
    "from sklearn.gaussian_process.kernels import RBF, ConstantKernel\n",
    "\n",
    "from src.prediction.gpr_model_trainer import GPRModelTrainer\n",
    "from src.ga.chromosome.vent_hole import VentHole\n",
    "\n",
    "from src.ga.gene.shape.shape_variations import (\n",
    "    circle_params,\n",
    "    donut_params,\n",
    "    hole_params,\n",
    "    trapezoid_params,\n",
    "    triangle_params,\n",
    "    wing_params,\n",
    ")\n",
    "from src.ga.gene.pattern.pattern_variations import (\n",
    "    circular_params,\n",
    "    corn_params,\n",
    "    grid_params,\n",
    ")\n",
    "\n",
    "from src.ga.ga_pipeline import GAPipeline\n",
    "\n",
    "from src.ga.p1_initialize.init_vent import VentInitializer\n",
    "from src.ga.p2_fitness.vent_fitness import Criterion, VentFitnessCalculator\n",
    "from src.ga.p3_select.behaviors import (\n",
    "    TournamentSelectionFilter,\n",
    "    ElitismSelectionFilter,\n",
    "    RouletteWheelSelectionFilter,\n",
    ")\n",
    "from src.ga.p4_crossover.behaviors import (\n",
    "    OnePointCrossover,\n",
    "    TwoPointCrossover,\n",
    "    UniformCrossover,\n",
    ")\n",
    "\n",
    "# ----------------- Define the GA CONSTANTS -----------------\n",
    "# 1. Define the criteria weights, w1, w2, w3\n",
    "CRITERIA_WEIGHT = (1.2, 1, 0.8)\n",
    "\n",
    "# 2. Define the criteria with direction, min, and max values\n",
    "DRAG_CRITERION: Criterion = (\"lower\", 0.2, 0.3)  # Lower is better, range 0.2 to 0.3\n",
    "DRAG_STD_CRITERION: Criterion = (\"lower\", 0, 0.05)  # Lower is better, range 0 to 0.05\n",
    "\n",
    "AVG_TEMP_CRITERION: Criterion = (\n",
    "    \"lower\",\n",
    "    250,\n",
    "    450,\n",
    ")  # Lower is better, range 250C to 400C\n",
    "AVG_TEMP_STD_CRITERION: Criterion = (\"lower\", 0, 10)  # Lower is better, range 0C to 10C\n",
    "\n",
    "MAX_TEMP_CRITERION: Criterion = (\n",
    "    \"lower\",\n",
    "    300,\n",
    "    500,\n",
    ")  # Lower is better, range 300C to 500C\n",
    "MAX_TEMP_STD_CRITERION: Criterion = (\"lower\", 0, 10)  # Lower is better, range 0C to 10C\n",
    "\n",
    "# 2. Define the grid parameters\n",
    "GRID_SCALE = 1\n",
    "GRID_RESOLUTION = 2\n",
    "GRID_WIDTH = 60\n",
    "GRID_BOUND = (\n",
    "    (-GRID_WIDTH / 2, GRID_WIDTH / 2),\n",
    "    (-GRID_WIDTH / 2, GRID_WIDTH / 2),\n",
    ")\n",
    "# ----------------- Define the GA MODEL     -----------------\n",
    "\n",
    "gpr_kernel = ConstantKernel(1.0, (1e-2, 1e2)) * RBF(1.0, (1e-2, 1e2))\n",
    "\n",
    "model_trainer = GPRModelTrainer(\n",
    "    gpr_kernel=gpr_kernel,\n",
    "    gpr_drag_config=(10, 1e-5),\n",
    "    gpr_max_temp_config=(10, 1e-3),\n",
    "    gpr_avg_temp_config=(10, 1e-3),\n",
    "    grid_bound=GRID_BOUND,\n",
    "    grid_bound_width=GRID_WIDTH,\n",
    "    grid_resolution=GRID_RESOLUTION,\n",
    "    grid_scale=GRID_SCALE,\n",
    "    desired_variance=0.9,\n",
    ")\n",
    "\n",
    "gpr_model = model_trainer.get_model()\n",
    "pca = model_trainer.get_pca()\n",
    "\n",
    "# ----------------- Define the GA PIPELINES -----------------\n",
    "suite = GAPipeline[VentHole](\n",
    "    suite_name=\"exp/tournament/config...\",\n",
    "    suite_max_count=50,\n",
    "    suite_min_population=150,\n",
    "    suite_min_chromosome=20,\n",
    "    crossover_behavior=UniformCrossover(),\n",
    "    selector_behavior=TournamentSelectionFilter(tournament_size=4),\n",
    "    fitness_calculator=VentFitnessCalculator(\n",
    "        pca=pca,\n",
    "        gpr_models=gpr_model,\n",
    "        criteria_weight_list=CRITERIA_WEIGHT,\n",
    "        drag_criterion=DRAG_CRITERION,\n",
    "        drag_std_criterion=DRAG_STD_CRITERION,\n",
    "        avg_temp_criterion=AVG_TEMP_CRITERION,\n",
    "        avg_temp_std_criterion=AVG_TEMP_STD_CRITERION,\n",
    "        max_temp_criterion=MAX_TEMP_CRITERION,\n",
    "        max_temp_std_criterion=MAX_TEMP_STD_CRITERION,\n",
    "    ),\n",
    "    immediate_exit_condition=lambda x: x[0] >= 10000 and x[1] >= 10000,\n",
    "    mutation_probability=0.01,\n",
    "    population_initializer=VentInitializer(\n",
    "        population_size=1000,\n",
    "        grid_scale=GRID_SCALE,\n",
    "        grid_resolution=GRID_RESOLUTION,\n",
    "        pattern_bound=GRID_BOUND,\n",
    "        pattern_gene_pool=[circular_params, corn_params],\n",
    "        shape_gene_pool=[\n",
    "            circle_params,\n",
    "        ],\n",
    "    ),\n",
    ")"
   ]
  },
  {
   "cell_type": "markdown",
   "metadata": {},
   "source": [
    "# Run genetic algorithm"
   ]
  },
  {
   "cell_type": "code",
   "execution_count": null,
   "metadata": {},
   "outputs": [],
   "source": [
    "suite.run()"
   ]
  },
  {
   "cell_type": "markdown",
   "metadata": {},
   "source": [
    "# Plot fitness result"
   ]
  },
  {
   "cell_type": "code",
   "execution_count": null,
   "metadata": {},
   "outputs": [],
   "source": [
    "suite.evolution_storage.plot_fitness(\n",
    "    storage=\"fitness\", title=\"fitness for suite2\", xlabel=\"generation\", ylabel=\"fitness\"\n",
    ")\n",
    "suite.evolution_storage.plot_fitness(\n",
    "    storage=\"biased_fitness\",\n",
    "    title=\"biased fitness for suite2\",\n",
    "    xlabel=\"generation\",\n",
    "    ylabel=\"biased fitness\",\n",
    ")"
   ]
  },
  {
   "cell_type": "markdown",
   "metadata": {},
   "source": [
    "# Visualize final chromosome(unique)"
   ]
  },
  {
   "cell_type": "code",
   "execution_count": null,
   "metadata": {},
   "outputs": [],
   "source": [
    "from src.grid.visualize_points import visualize_points\n",
    "\n",
    "\n",
    "count = suite.population_count\n",
    "\n",
    "\n",
    "for pop in suite.unique_population:\n",
    "    print(\"-\" * 50)\n",
    "    print(pop.label)\n",
    "    print(pop.fitness_pure_result)\n",
    "    print(pop.biased_fitness, pop.fitness)\n",
    "\n",
    "    visualize_points(\n",
    "        pop.pattern.pattern_matrix,\n",
    "        pop.pattern.pattern_unit.grid.k,\n",
    "        fig_size=(5, 5),\n",
    "    )"
   ]
  }
 ],
 "metadata": {
  "kernelspec": {
   "display_name": ".venv",
   "language": "python",
   "name": "python3"
  },
  "language_info": {
   "codemirror_mode": {
    "name": "ipython",
    "version": 3
   },
   "file_extension": ".py",
   "mimetype": "text/x-python",
   "name": "python",
   "nbconvert_exporter": "python",
   "pygments_lexer": "ipython3",
   "version": "3.11.0"
  }
 },
 "nbformat": 4,
 "nbformat_minor": 2
}
