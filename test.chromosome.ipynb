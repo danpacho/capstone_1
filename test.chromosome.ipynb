{
 "cells": [
  {
   "cell_type": "code",
   "execution_count": null,
   "metadata": {},
   "outputs": [],
   "source": [
    "from src.ga.chromosome.vent_hole import VentHole\n",
    "from src.ga.gene.shape.shape_variations import (\n",
    "    donut_params,\n",
    "    circle_params,\n",
    "    triangle_params,\n",
    "    wing_params,\n",
    "    hole_params,\n",
    "    trapezoid_params,\n",
    ")\n",
    "from src.ga.gene.pattern.pattern_variations import (\n",
    "    circular_params,\n",
    "    corn_params,\n",
    "    grid_params,\n",
    ")\n",
    "from src.ga.gene.shape.shape_gene import ShapeGene\n",
    "from src.ga.gene.pattern.pattern_gene import PatternGene"
   ]
  },
  {
   "cell_type": "markdown",
   "metadata": {},
   "source": [
    "# Chromosome generation test"
   ]
  },
  {
   "cell_type": "code",
   "execution_count": null,
   "metadata": {},
   "outputs": [],
   "source": [
    "from random import choice\n",
    "\n",
    "vent_list: list[VentHole] = []\n",
    "\n",
    "COUNT = 100\n",
    "SCALE = 10**20\n",
    "RAND_SHAPE = [\n",
    "    donut_params,\n",
    "    circle_params,\n",
    "    triangle_params,\n",
    "    wing_params,\n",
    "    hole_params,\n",
    "    trapezoid_params,\n",
    "]\n",
    "RAND_PATTERN = [circular_params, corn_params, grid_params]\n",
    "\n",
    "shape_genes: list[ShapeGene] = []\n",
    "pattern_genes: list[PatternGene] = []\n",
    "\n",
    "# RESET STORAGE\n",
    "ShapeGene.pdf_storage.reset()\n",
    "PatternGene.pdf_storage.reset()\n",
    "ShapeGene.parameter_storage.reset()\n",
    "\n",
    "# GENERATE RANDOM GENES\n",
    "for i in range(COUNT):\n",
    "    shape_selection = choice(RAND_SHAPE)\n",
    "    pattern_selection = choice(RAND_PATTERN)\n",
    "\n",
    "    shape_gene = ShapeGene(shape_selection(SCALE), gene_id=i)\n",
    "    pattern_gene = PatternGene(pattern_selection(SCALE), gene_id=i)\n",
    "\n",
    "    shape_gene.mutate(\"rand\")\n",
    "    pattern_gene.mutate(\"rand\")\n",
    "\n",
    "    pattern_genes.append(pattern_gene)\n",
    "    shape_genes.append(shape_gene)\n",
    "\n",
    "# SAVE GENES\n",
    "ShapeGene.pdf_storage.save()\n",
    "PatternGene.pdf_storage.save()\n",
    "ShapeGene.parameter_storage.save()\n",
    "\n",
    "# MUTATE GENES\n",
    "for i in range(COUNT):\n",
    "    rand_vent = VentHole(\n",
    "        vent_id=i,\n",
    "        gene_tuple=(\n",
    "            shape_genes[i],\n",
    "            pattern_genes[i],\n",
    "        ),\n",
    "        pattern_bound=((-50 * SCALE, 50 * SCALE), (-50 * SCALE, 50 * SCALE)),\n",
    "    )\n",
    "    rand_vent.mutate_genes()\n",
    "\n",
    "    vent_list.append(rand_vent)\n",
    "\n",
    "\n",
    "ShapeGene.pdf_storage.save()\n",
    "PatternGene.pdf_storage.save()\n",
    "ShapeGene.parameter_storage.save()"
   ]
  },
  {
   "cell_type": "markdown",
   "metadata": {},
   "source": [
    "# Crossover test"
   ]
  },
  {
   "cell_type": "code",
   "execution_count": null,
   "metadata": {},
   "outputs": [],
   "source": [
    "# Crossover\n",
    "from src.ga.p4_crossover.behaviors import (\n",
    "    one_point_crossover,\n",
    "    two_point_crossover,\n",
    "    uniform_crossover,\n",
    ")\n",
    "\n",
    "child_vent_list: list[VentHole] = []\n",
    "\n",
    "for i in range(COUNT - 1):\n",
    "    child_vent = vent_list[i].crossover(\n",
    "        one_point_crossover,\n",
    "        # two_point_crossover,\n",
    "        # uniform_crossover,\n",
    "        vent_list[i + 1],\n",
    "    )\n",
    "\n",
    "    child_vent_list.append(child_vent)"
   ]
  },
  {
   "cell_type": "markdown",
   "metadata": {},
   "source": [
    "# Visualization test"
   ]
  },
  {
   "cell_type": "code",
   "execution_count": null,
   "metadata": {},
   "outputs": [],
   "source": [
    "from src.grid.visualize_points import visualize_points\n",
    "\n",
    "\n",
    "for i in range(COUNT - 1):\n",
    "    visualize_points(\n",
    "        child_vent_list[i].pattern.pattern_matrix,\n",
    "        child_vent_list[i].pattern.pattern_unit.grid.k,\n",
    "    )"
   ]
  }
 ],
 "metadata": {
  "kernelspec": {
   "display_name": ".venv",
   "language": "python",
   "name": "python3"
  },
  "language_info": {
   "codemirror_mode": {
    "name": "ipython",
    "version": 3
   },
   "file_extension": ".py",
   "mimetype": "text/x-python",
   "name": "python",
   "nbconvert_exporter": "python",
   "pygments_lexer": "ipython3",
   "version": "3.11.0"
  }
 },
 "nbformat": 4,
 "nbformat_minor": 2
}
