{
 "cells": [
  {
   "cell_type": "code",
   "execution_count": 1,
   "metadata": {},
   "outputs": [
    {
     "name": "stdout",
     "output_type": "stream",
     "text": [
      "Current recursion limit: 3000\n",
      "New recursion limit: 100000\n"
     ]
    }
   ],
   "source": [
    "def increase_call_stack_limit(mount: int):\n",
    "    import sys\n",
    "\n",
    "    # Get the current recursion limit\n",
    "    current_limit = sys.getrecursionlimit()\n",
    "    print(f\"Current recursion limit: {current_limit}\")\n",
    "\n",
    "    # Set a new recursion limit\n",
    "    sys.setrecursionlimit(mount)\n",
    "    print(f\"New recursion limit: {mount}\")\n",
    "\n",
    "\n",
    "increase_call_stack_limit(100000)"
   ]
  },
  {
   "cell_type": "code",
   "execution_count": 2,
   "metadata": {},
   "outputs": [
    {
     "name": "stdout",
     "output_type": "stream",
     "text": [
      "[Storage]: JSON data loaded from c:\\Users\\eaton\\Desktop\\Capstone_Simulation\\capstone_1_er1\\store/gene_parameters.json\n",
      "[Storage]: JSON data loaded from c:\\Users\\eaton\\Desktop\\Capstone_Simulation\\capstone_1_er1\\store/gene_parameters.json\n",
      "[StochasticStorage]: JSON data loaded from c:\\Users\\eaton\\Desktop\\Capstone_Simulation\\capstone_1_er1\\store/shape_gene_pdf.json\n",
      "[StochasticStorage]: JSON data loaded from c:\\Users\\eaton\\Desktop\\Capstone_Simulation\\capstone_1_er1\\store/shape_gene_pdf.json\n",
      "[StochasticStorage]: JSON data loaded from c:\\Users\\eaton\\Desktop\\Capstone_Simulation\\capstone_1_er1\\store/shape_gene_pdf.json\n"
     ]
    }
   ],
   "source": [
    "from src.ga.gene.shape.shape_variations import (\n",
    "    donut_params,\n",
    "    circle_params,\n",
    "    triangle_params,\n",
    "    wing_params,\n",
    "    hole_params,\n",
    "    trapezoid_params,\n",
    "    ray_params,\n",
    "    double_parabolic_params\n",
    ")\n",
    "from src.ga.gene.shape.shape_gene import ShapeGene"
   ]
  },
  {
   "cell_type": "code",
   "execution_count": 3,
   "metadata": {},
   "outputs": [],
   "source": [
    "N = 100\n",
    "SCALE = 10**20"
   ]
  },
  {
   "cell_type": "markdown",
   "metadata": {},
   "source": [
    "# Generate random shape genes"
   ]
  },
  {
   "cell_type": "code",
   "execution_count": 4,
   "metadata": {},
   "outputs": [
    {
     "ename": "IndexError",
     "evalue": "index 4 is out of bounds for axis 0 with size 4",
     "output_type": "error",
     "traceback": [
      "\u001b[1;31m---------------------------------------------------------------------------\u001b[0m",
      "\u001b[1;31mIndexError\u001b[0m                                Traceback (most recent call last)",
      "Cell \u001b[1;32mIn[4], line 16\u001b[0m\n\u001b[0;32m      5\u001b[0m rand_shape \u001b[38;5;241m=\u001b[39m [\n\u001b[0;32m      6\u001b[0m     donut_params,\n\u001b[0;32m      7\u001b[0m     trapezoid_params,\n\u001b[1;32m   (...)\u001b[0m\n\u001b[0;32m     13\u001b[0m     double_parabolic_params\n\u001b[0;32m     14\u001b[0m ]\n\u001b[0;32m     15\u001b[0m \u001b[38;5;28;01mfor\u001b[39;00m i \u001b[38;5;129;01min\u001b[39;00m \u001b[38;5;28mrange\u001b[39m(N):\n\u001b[1;32m---> 16\u001b[0m     genes\u001b[38;5;241m.\u001b[39mappend(\u001b[43mShapeGene\u001b[49m\u001b[43m(\u001b[49m\u001b[43mchoice\u001b[49m\u001b[43m(\u001b[49m\u001b[43mrand_shape\u001b[49m\u001b[43m)\u001b[49m\u001b[43m(\u001b[49m\u001b[43mSCALE\u001b[49m\u001b[43m)\u001b[49m\u001b[43m,\u001b[49m\u001b[43m \u001b[49m\u001b[43mgene_id\u001b[49m\u001b[38;5;241;43m=\u001b[39;49m\u001b[43mi\u001b[49m\u001b[43m)\u001b[49m)\n\u001b[0;32m     18\u001b[0m \u001b[38;5;66;03m# Mutation logics, uncomment to test\u001b[39;00m\n\u001b[0;32m     19\u001b[0m \u001b[38;5;28;01mfor\u001b[39;00m gene \u001b[38;5;129;01min\u001b[39;00m genes:\n",
      "File \u001b[1;32mc:\\Users\\eaton\\Desktop\\Capstone_Simulation\\capstone_1_er1\\src\\ga\\gene\\shape\\shape_gene.py:180\u001b[0m, in \u001b[0;36mShapeGene.__init__\u001b[1;34m(self, shape_parameter, gene_id)\u001b[0m\n\u001b[0;32m    178\u001b[0m \u001b[38;5;28mself\u001b[39m\u001b[38;5;241m.\u001b[39mparam \u001b[38;5;241m=\u001b[39m shape_parameter\n\u001b[0;32m    179\u001b[0m \u001b[38;5;66;03m# Adapt the area parameter functions to the shape\u001b[39;00m\n\u001b[1;32m--> 180\u001b[0m \u001b[38;5;28mself\u001b[39m\u001b[38;5;241m.\u001b[39mpattern_unit \u001b[38;5;241m=\u001b[39m \u001b[43mPatternUnit\u001b[49m\u001b[43m(\u001b[49m\n\u001b[0;32m    181\u001b[0m \u001b[43m    \u001b[49m\u001b[43mShape\u001b[49m\u001b[43m(\u001b[49m\n\u001b[0;32m    182\u001b[0m \u001b[43m        \u001b[49m\u001b[43mshape_parameter\u001b[49m\u001b[38;5;241;43m.\u001b[39;49m\u001b[43mw\u001b[49m\u001b[43m,\u001b[49m\n\u001b[0;32m    183\u001b[0m \u001b[43m        \u001b[49m\u001b[43mshape_parameter\u001b[49m\u001b[38;5;241;43m.\u001b[39;49m\u001b[43mh\u001b[49m\u001b[43m,\u001b[49m\n\u001b[0;32m    184\u001b[0m \u001b[43m        \u001b[49m\u001b[43mshape_parameter\u001b[49m\u001b[38;5;241;43m.\u001b[39;49m\u001b[43mget_a_f_with_params\u001b[49m\u001b[43m(\u001b[49m\u001b[38;5;28;43mself\u001b[39;49m\u001b[38;5;241;43m.\u001b[39;49m\u001b[43mparameter_list\u001b[49m\u001b[43m)\u001b[49m\u001b[43m,\u001b[49m\n\u001b[0;32m    185\u001b[0m \u001b[43m    \u001b[49m\u001b[43m)\u001b[49m\u001b[43m,\u001b[49m\n\u001b[0;32m    186\u001b[0m \u001b[43m    \u001b[49m\u001b[43mshape_parameter\u001b[49m\u001b[38;5;241;43m.\u001b[39;49m\u001b[43mk\u001b[49m\u001b[43m,\u001b[49m\n\u001b[0;32m    187\u001b[0m \u001b[43m\u001b[49m\u001b[43m)\u001b[49m\n\u001b[0;32m    189\u001b[0m \u001b[38;5;28mself\u001b[39m\u001b[38;5;241m.\u001b[39mparameter_list \u001b[38;5;241m=\u001b[39m np\u001b[38;5;241m.\u001b[39mzeros(\n\u001b[0;32m    190\u001b[0m     shape_parameter\u001b[38;5;241m.\u001b[39mparameter_count, dtype\u001b[38;5;241m=\u001b[39mnp\u001b[38;5;241m.\u001b[39mfloat64\n\u001b[0;32m    191\u001b[0m )\n\u001b[0;32m    193\u001b[0m \u001b[38;5;28mself\u001b[39m\u001b[38;5;241m.\u001b[39mload_gene()\n",
      "File \u001b[1;32mc:\\Users\\eaton\\Desktop\\Capstone_Simulation\\capstone_1_er1\\src\\geometry\\pattern_unit.py:63\u001b[0m, in \u001b[0;36mPatternUnit.__init__\u001b[1;34m(self, shape, k)\u001b[0m\n\u001b[0;32m     60\u001b[0m \u001b[38;5;28mself\u001b[39m\u001b[38;5;241m.\u001b[39mgrid\u001b[38;5;241m.\u001b[39mgenerate_grid()\n\u001b[0;32m     62\u001b[0m \u001b[38;5;28mself\u001b[39m\u001b[38;5;241m.\u001b[39mshape_matrix: V2_group \u001b[38;5;241m=\u001b[39m V\u001b[38;5;241m.\u001b[39minitialize_matrix_2d()\n\u001b[1;32m---> 63\u001b[0m \u001b[38;5;28;43mself\u001b[39;49m\u001b[38;5;241;43m.\u001b[39;49m\u001b[43mgenerate_shape_matrix\u001b[49m\u001b[43m(\u001b[49m\u001b[43m)\u001b[49m\n",
      "File \u001b[1;32mc:\\Users\\eaton\\Desktop\\Capstone_Simulation\\capstone_1_er1\\src\\geometry\\pattern_unit.py:78\u001b[0m, in \u001b[0;36mPatternUnit.generate_shape_matrix\u001b[1;34m(self, deduplicate)\u001b[0m\n\u001b[0;32m     76\u001b[0m y \u001b[38;5;241m=\u001b[39m cell[\u001b[38;5;241m1\u001b[39m]\n\u001b[0;32m     77\u001b[0m cell_id \u001b[38;5;241m=\u001b[39m \u001b[38;5;124mf\u001b[39m\u001b[38;5;124m\"\u001b[39m\u001b[38;5;132;01m{\u001b[39;00mx\u001b[38;5;132;01m}\u001b[39;00m\u001b[38;5;124m_\u001b[39m\u001b[38;5;132;01m{\u001b[39;00my\u001b[38;5;132;01m}\u001b[39;00m\u001b[38;5;124m\"\u001b[39m\n\u001b[1;32m---> 78\u001b[0m \u001b[38;5;28;01mif\u001b[39;00m \u001b[43marea_f\u001b[49m\u001b[43m(\u001b[49m\u001b[43mx\u001b[49m\u001b[43m,\u001b[49m\u001b[43m \u001b[49m\u001b[43my\u001b[49m\u001b[43m)\u001b[49m \u001b[38;5;129;01mand\u001b[39;00m cell_id:\n\u001b[0;32m     79\u001b[0m     \u001b[38;5;28;01mif\u001b[39;00m deduplicate:\n\u001b[0;32m     80\u001b[0m         \u001b[38;5;28;01mif\u001b[39;00m cell_id \u001b[38;5;129;01min\u001b[39;00m shape_point_ids:\n",
      "File \u001b[1;32mc:\\Users\\eaton\\Desktop\\Capstone_Simulation\\capstone_1_er1\\src\\ga\\gene\\shape\\shape_gene.py:134\u001b[0m, in \u001b[0;36mShapeGeneParameter.get_a_f_with_params.<locals>.to_af_with_params.<locals>.<lambda>\u001b[1;34m(x, y)\u001b[0m\n\u001b[0;32m    131\u001b[0m \u001b[38;5;28;01mdef\u001b[39;00m \u001b[38;5;21mto_af_with_params\u001b[39m(\n\u001b[0;32m    132\u001b[0m     f: Callable[[\u001b[38;5;28mtuple\u001b[39m[\u001b[38;5;28mfloat\u001b[39m, \u001b[38;5;28mfloat\u001b[39m], V2_group], \u001b[38;5;28mbool\u001b[39m]\n\u001b[0;32m    133\u001b[0m ) \u001b[38;5;241m-\u001b[39m\u001b[38;5;241m>\u001b[39m Callable[[\u001b[38;5;28mtuple\u001b[39m[\u001b[38;5;28mfloat\u001b[39m, \u001b[38;5;28mfloat\u001b[39m]], \u001b[38;5;28mbool\u001b[39m]:\n\u001b[1;32m--> 134\u001b[0m     \u001b[38;5;28;01mreturn\u001b[39;00m \u001b[38;5;28;01mlambda\u001b[39;00m x, y: \u001b[43mf\u001b[49m\u001b[43m(\u001b[49m\u001b[43m(\u001b[49m\u001b[43mx\u001b[49m\u001b[43m,\u001b[49m\u001b[43m \u001b[49m\u001b[43my\u001b[49m\u001b[43m)\u001b[49m\u001b[43m,\u001b[49m\u001b[43m \u001b[49m\u001b[43mparameter_list\u001b[49m\u001b[43m)\u001b[49m\n",
      "File \u001b[1;32mc:\\Users\\eaton\\Desktop\\Capstone_Simulation\\capstone_1_er1\\src\\ga\\gene\\shape\\shape_variations.py:99\u001b[0m, in \u001b[0;36mray_params.<locals>.<lambda>\u001b[1;34m(p, params)\u001b[0m\n\u001b[0;32m     92\u001b[0m \u001b[38;5;28;01mdef\u001b[39;00m \u001b[38;5;21mray_params\u001b[39m(scale: \u001b[38;5;28mint\u001b[39m, resolution: \u001b[38;5;28mfloat\u001b[39m \u001b[38;5;241m=\u001b[39m \u001b[38;5;241m2.0\u001b[39m) \u001b[38;5;241m-\u001b[39m\u001b[38;5;241m>\u001b[39m ShapeGeneParameter:\n\u001b[0;32m     93\u001b[0m     bbox \u001b[38;5;241m=\u001b[39m (\u001b[38;5;241m10\u001b[39m \u001b[38;5;241m*\u001b[39m scale, \u001b[38;5;241m10\u001b[39m \u001b[38;5;241m*\u001b[39m scale, scale \u001b[38;5;241m/\u001b[39m resolution)\n\u001b[0;32m     94\u001b[0m     \u001b[38;5;28;01mreturn\u001b[39;00m ShapeGeneParameter(\n\u001b[0;32m     95\u001b[0m         label\u001b[38;5;241m=\u001b[39m\u001b[38;5;124m\"\u001b[39m\u001b[38;5;124mRayShape\u001b[39m\u001b[38;5;124m\"\u001b[39m,\n\u001b[0;32m     96\u001b[0m         bbox\u001b[38;5;241m=\u001b[39mbbox,\n\u001b[0;32m     97\u001b[0m         a_f\u001b[38;5;241m=\u001b[39m[\n\u001b[0;32m     98\u001b[0m             \u001b[38;5;28;01mlambda\u001b[39;00m p, params: \n\u001b[1;32m---> 99\u001b[0m             p[\u001b[38;5;241m1\u001b[39m] \u001b[38;5;241m<\u001b[39m\u001b[38;5;241m=\u001b[39m params[\u001b[38;5;241m0\u001b[39m]\u001b[38;5;241m*\u001b[39mp[\u001b[38;5;241m0\u001b[39m]\u001b[38;5;241m+\u001b[39mparams[\u001b[38;5;241m1\u001b[39m]\u001b[38;5;241m+\u001b[39m\u001b[43mparams\u001b[49m\u001b[43m[\u001b[49m\u001b[38;5;241;43m4\u001b[39;49m\u001b[43m]\u001b[49m\n\u001b[0;32m    100\u001b[0m             \u001b[38;5;129;01mand\u001b[39;00m p[\u001b[38;5;241m1\u001b[39m] \u001b[38;5;241m<\u001b[39m\u001b[38;5;241m=\u001b[39m \u001b[38;5;241m-\u001b[39mparams[\u001b[38;5;241m0\u001b[39m]\u001b[38;5;241m*\u001b[39mp[\u001b[38;5;241m0\u001b[39m]\u001b[38;5;241m+\u001b[39mparams[\u001b[38;5;241m1\u001b[39m]\u001b[38;5;241m+\u001b[39mparams[\u001b[38;5;241m4\u001b[39m]\n\u001b[0;32m    101\u001b[0m             \u001b[38;5;129;01mand\u001b[39;00m p[\u001b[38;5;241m1\u001b[39m] \u001b[38;5;241m>\u001b[39m\u001b[38;5;241m=\u001b[39m \u001b[38;5;241m-\u001b[39mparams[\u001b[38;5;241m2\u001b[39m](p[\u001b[38;5;241m0\u001b[39m]\u001b[38;5;241m-\u001b[39mparams[\u001b[38;5;241m3\u001b[39m]) \u001b[38;5;241m*\u001b[39m\u001b[38;5;241m*\u001b[39m \u001b[38;5;241m2\u001b[39m\u001b[38;5;241m+\u001b[39mparams[\u001b[38;5;241m4\u001b[39m]\n\u001b[0;32m    102\u001b[0m             \u001b[38;5;129;01mand\u001b[39;00m p[\u001b[38;5;241m1\u001b[39m] \u001b[38;5;241m>\u001b[39m\u001b[38;5;241m=\u001b[39m \u001b[38;5;241m0\u001b[39m\n\u001b[0;32m    103\u001b[0m         ],\n\u001b[0;32m    104\u001b[0m         parameter_id_list\u001b[38;5;241m=\u001b[39m[\u001b[38;5;124m\"\u001b[39m\u001b[38;5;124mupper_slope\u001b[39m\u001b[38;5;124m\"\u001b[39m, \u001b[38;5;124m\"\u001b[39m\u001b[38;5;124mnose_point\u001b[39m\u001b[38;5;124m\"\u001b[39m, \u001b[38;5;124m\"\u001b[39m\u001b[38;5;124mlower_coefficient\u001b[39m\u001b[38;5;124m\"\u001b[39m, \u001b[38;5;124m\"\u001b[39m\u001b[38;5;124mlower_y-intercept\u001b[39m\u001b[38;5;124m\"\u001b[39m ],\n\u001b[0;32m    105\u001b[0m         parameter_boundary_list\u001b[38;5;241m=\u001b[39m[(\u001b[38;5;241m1\u001b[39m \u001b[38;5;241m*\u001b[39m scale, \u001b[38;5;241m4\u001b[39m \u001b[38;5;241m*\u001b[39m scale), (\u001b[38;5;241m4\u001b[39m \u001b[38;5;241m*\u001b[39m scale, \u001b[38;5;241m6\u001b[39m \u001b[38;5;241m*\u001b[39m scale), (\u001b[38;5;241m1\u001b[39m \u001b[38;5;241m*\u001b[39m scale, \u001b[38;5;241m10\u001b[39m \u001b[38;5;241m*\u001b[39m scale), (\u001b[38;5;241m1\u001b[39m \u001b[38;5;241m*\u001b[39m scale, \u001b[38;5;241m4\u001b[39m \u001b[38;5;241m*\u001b[39m scale)],\n\u001b[0;32m    106\u001b[0m     )\n",
      "\u001b[1;31mIndexError\u001b[0m: index 4 is out of bounds for axis 0 with size 4"
     ]
    }
   ],
   "source": [
    "from random import choice\n",
    "\n",
    "\n",
    "genes: list[ShapeGene] = []\n",
    "rand_shape = [\n",
    "    donut_params,\n",
    "    trapezoid_params,\n",
    "    circle_params,\n",
    "    triangle_params,\n",
    "    wing_params,\n",
    "    hole_params,\n",
    "    ray_params,\n",
    "    double_parabolic_params\n",
    "]\n",
    "for i in range(N):\n",
    "    genes.append(ShapeGene(choice(rand_shape)(SCALE), gene_id=i))\n",
    "\n",
    "# Mutation logics, uncomment to test\n",
    "for gene in genes:\n",
    "    gene.mutate(\"rand\")\n",
    "\n",
    "ShapeGene.pdf_storage.save()\n",
    "ShapeGene.parameter_storage.save()\n",
    "\n",
    "# ShapeGene.pdf_storage.plot_distribution(\"r_inner\")"
   ]
  },
  {
   "cell_type": "code",
   "execution_count": null,
   "metadata": {},
   "outputs": [],
   "source": [
    "from src.grid.visualize_points import visualize_points\n",
    "\n",
    "\n",
    "visualize_points(genes[0].pattern_unit.shape_matrix, genes[0].param.k)"
   ]
  },
  {
   "cell_type": "markdown",
   "metadata": {},
   "source": [
    "# Generate random pattern transformation"
   ]
  },
  {
   "cell_type": "code",
   "execution_count": null,
   "metadata": {},
   "outputs": [],
   "source": [
    "from src.ga.gene.pattern.pattern_variations import (\n",
    "    circular_params,\n",
    "    corn_params,\n",
    "    grid_params,\n",
    ")\n",
    "from src.ga.gene.pattern.pattern_gene import PatternGene"
   ]
  },
  {
   "cell_type": "code",
   "execution_count": null,
   "metadata": {},
   "outputs": [],
   "source": [
    "pattern_genes: list[PatternGene] = []\n",
    "rand_pattern = [circular_params, corn_params, grid_params]\n",
    "for i in range(N):\n",
    "    pattern_genes.append(PatternGene(choice(rand_pattern)(SCALE), gene_id=i))\n",
    "\n",
    "# Mutation logics, uncomment to test\n",
    "for gene in pattern_genes:\n",
    "    gene.mutate(\"rand\")\n",
    "    gene.print_parameter_info()\n",
    "\n",
    "for gene in pattern_genes:\n",
    "    print(\"-\" * 100)\n",
    "    print(gene.param.transformation)\n",
    "\n",
    "PatternGene.pdf_storage.save()\n",
    "PatternGene.parameter_storage.save()\n",
    "\n",
    "PatternGene.pdf_storage.plot_distribution(\"phi\")"
   ]
  },
  {
   "cell_type": "markdown",
   "metadata": {},
   "source": [
    "# Test combinations with two genes"
   ]
  },
  {
   "cell_type": "code",
   "execution_count": null,
   "metadata": {},
   "outputs": [],
   "source": [
    "from src.geometry.pattern_unit import PatternTransformationMatrix, Pattern\n",
    "\n",
    "combined: list[Pattern] = []\n",
    "\n",
    "for i in range(N):\n",
    "    rand_shape = genes[i]\n",
    "    t_mat = Pattern(\n",
    "        PatternTransformationMatrix(\n",
    "            rand_shape.pattern_unit,\n",
    "            pattern_genes[i].param.transformation,\n",
    "            pattern_bound=((-50 * SCALE, 50 * SCALE), (-50 * SCALE, 50 * SCALE)),\n",
    "        ),\n",
    "    )\n",
    "    combined.append(t_mat)"
   ]
  },
  {
   "cell_type": "code",
   "execution_count": null,
   "metadata": {},
   "outputs": [],
   "source": [
    "def draw_at(i: int):\n",
    "    print(\n",
    "        f\"Draw > shape: {genes[i].label}, pattern: {pattern_genes[i].param.pattern_type}\"\n",
    "    )\n",
    "    print(combined[i].pattern_matrix.shape)\n",
    "    genes[i].print_parameter_info()\n",
    "    pattern_genes[i].print_parameter_info()\n",
    "    visualize_points(combined[i].pattern_matrix, combined[i].pattern_unit.grid.k)"
   ]
  },
  {
   "cell_type": "code",
   "execution_count": null,
   "metadata": {},
   "outputs": [],
   "source": [
    "for i in range(N):\n",
    "    print(\"-\" * 50)\n",
    "    print(f\"index: {i}\")\n",
    "    print(f\"shape: {genes[i].label}, pattern: {pattern_genes[i].param.pattern_type}\")\n",
    "    print(f\"dim: {combined[i].pattern_matrix.shape}\")\n",
    "    print(f\"Shape Gene: {genes[i].parameter_table}\")\n",
    "    print(f\"Pattern Gene: {pattern_genes[i].parameter_table}\")\n",
    "    print(f\"K: {genes[i].param.k}\")"
   ]
  },
  {
   "cell_type": "code",
   "execution_count": null,
   "metadata": {},
   "outputs": [],
   "source": [
    "draw_at(15)"
   ]
  },
  {
   "cell_type": "code",
   "execution_count": null,
   "metadata": {},
   "outputs": [],
   "source": [
    "for i in range(N):\n",
    "    if combined[i].pattern_matrix.shape[0] < 10000:\n",
    "        draw_at(i)"
   ]
  },
  {
   "cell_type": "code",
   "execution_count": null,
   "metadata": {},
   "outputs": [],
   "source": [
    "# for i in range(100):\n",
    "#     if (\n",
    "#         combined[i].pattern_matrix.shape[0] > 10000\n",
    "#         and combined[i].pattern_matrix.shape[0] < 20000\n",
    "#     ):\n",
    "#         draw_at(i)"
   ]
  },
  {
   "cell_type": "markdown",
   "metadata": {},
   "source": []
  }
 ],
 "metadata": {
  "kernelspec": {
   "display_name": ".venv",
   "language": "python",
   "name": "python3"
  },
  "language_info": {
   "codemirror_mode": {
    "name": "ipython",
    "version": 3
   },
   "file_extension": ".py",
   "mimetype": "text/x-python",
   "name": "python",
   "nbconvert_exporter": "python",
   "pygments_lexer": "ipython3",
   "version": "3.11.7"
  }
 },
 "nbformat": 4,
 "nbformat_minor": 2
}
