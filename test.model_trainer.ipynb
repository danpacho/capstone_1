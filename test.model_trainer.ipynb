{
 "cells": [
  {
   "cell_type": "markdown",
   "metadata": {},
   "source": [
    "# Define model constants"
   ]
  },
  {
   "cell_type": "code",
   "execution_count": 1,
   "metadata": {},
   "outputs": [],
   "source": [
    "_HOLE_BOUND = ((-10, 10), (-10, 10))  # Hole boundary -10 <= x <= 10, -10 <= y <= 10\n",
    "\n",
    "GRID_SCALE = 1\n",
    "GRID_RESOLUTION = 2\n",
    "GRID_W = 75\n",
    "GRID_BOUND = ((-GRID_W / 2, GRID_W / 2), (-GRID_W / 2, GRID_W / 2))"
   ]
  },
  {
   "cell_type": "markdown",
   "metadata": {},
   "source": [
    "# A. Define GPR model"
   ]
  },
  {
   "cell_type": "code",
   "execution_count": 2,
   "metadata": {},
   "outputs": [
    {
     "name": "stdout",
     "output_type": "stream",
     "text": [
      "----------------------------------------\n",
      "| [ModelTrainer: ]: Model Trainer: GPR |\n",
      "----------------------------------------\n"
     ]
    }
   ],
   "source": [
    "from src.prediction.gpr_model_trainer import GPRModelTrainer\n",
    "\n",
    "from sklearn.gaussian_process.kernels import RBF, ConstantKernel\n",
    "import numpy as np\n",
    "\n",
    "gpr_kernel = ConstantKernel(1.0, (1e-2, 1e2)) * RBF(1.0, (1e-2, 1e2))\n",
    "\n",
    "gpr_model_trainer = GPRModelTrainer(\n",
    "    gpr_kernel=gpr_kernel,\n",
    "    gpr_drag_config=(10, 1e-5),\n",
    "    gpr_max_temp_config=(10, 1e-3),\n",
    "    gpr_avg_temp_config=(10, 1e-3),\n",
    "    grid_bound=GRID_BOUND,\n",
    "    grid_bound_width=GRID_W,\n",
    "    grid_resolution=GRID_RESOLUTION,\n",
    "    grid_scale=GRID_SCALE,\n",
    "    desired_variance=0.9,\n",
    ")"
   ]
  },
  {
   "cell_type": "markdown",
   "metadata": {},
   "source": [
    "# B. Define RandomForest model"
   ]
  },
  {
   "cell_type": "code",
   "execution_count": 3,
   "metadata": {},
   "outputs": [
    {
     "name": "stdout",
     "output_type": "stream",
     "text": [
      "--------------------------------------------------\n",
      "| [ModelTrainer: ]: Model Trainer: Random_Forest |\n",
      "--------------------------------------------------\n"
     ]
    }
   ],
   "source": [
    "from src.prediction.rf_model_trainer import RfModelTrainer\n",
    "\n",
    "rf_model_trainer = RfModelTrainer(\n",
    "    rf_drag_config=(100, 42),\n",
    "    rf_max_temp_config=(100, 42),\n",
    "    rf_avg_temp_config=(100, 42),\n",
    "    grid_bound=GRID_BOUND,\n",
    "    grid_bound_width=GRID_W,\n",
    "    grid_resolution=GRID_RESOLUTION,\n",
    "    grid_scale=GRID_SCALE,\n",
    "    desired_variance=0.9,\n",
    ")"
   ]
  },
  {
   "cell_type": "markdown",
   "metadata": {},
   "source": [
    "# C. Define ETR model"
   ]
  },
  {
   "cell_type": "code",
   "execution_count": 4,
   "metadata": {},
   "outputs": [
    {
     "name": "stdout",
     "output_type": "stream",
     "text": [
      "----------------------------------------\n",
      "| [ModelTrainer: ]: Model Trainer: ETR |\n",
      "----------------------------------------\n"
     ]
    }
   ],
   "source": [
    "from src.prediction.etr_model_trainer import EtrModelTrainer\n",
    "\n",
    "etr_model_trainer = EtrModelTrainer(\n",
    "    etr_drag_config=(100, 42),\n",
    "    etr_max_temp_config=(100, 42),\n",
    "    etr_avg_temp_config=(100, 42),\n",
    "    grid_bound=GRID_BOUND,\n",
    "    grid_bound_width=GRID_W,\n",
    "    grid_resolution=GRID_RESOLUTION,\n",
    "    grid_scale=GRID_SCALE,\n",
    "    desired_variance=0.9,\n",
    ")"
   ]
  },
  {
   "cell_type": "markdown",
   "metadata": {},
   "source": [
    "# D. Define ENSEM model"
   ]
  },
  {
   "cell_type": "code",
   "execution_count": 5,
   "metadata": {},
   "outputs": [
    {
     "name": "stdout",
     "output_type": "stream",
     "text": [
      "------------------------------------------\n",
      "| [ModelTrainer: ]: Model Trainer: ENSEM |\n",
      "------------------------------------------\n"
     ]
    }
   ],
   "source": [
    "from src.prediction.ensem_model_trainer import EnsemModelTrainer\n",
    "\n",
    "ensem_model_trainer = EnsemModelTrainer(\n",
    "    ensem_drag_config=(42, 10, 42),\n",
    "    ensem_max_temp_config=(42, 10, 42),\n",
    "    ensem_avg_temp_config=(42, 10, 42),\n",
    "    grid_bound=GRID_BOUND,\n",
    "    grid_bound_width=GRID_W,\n",
    "    grid_resolution=GRID_RESOLUTION,\n",
    "    grid_scale=GRID_SCALE,\n",
    "    desired_variance=0.9,\n",
    ")"
   ]
  },
  {
   "cell_type": "markdown",
   "metadata": {},
   "source": [
    "# E. Define ADA model"
   ]
  },
  {
   "cell_type": "code",
   "execution_count": 6,
   "metadata": {},
   "outputs": [
    {
     "name": "stdout",
     "output_type": "stream",
     "text": [
      "----------------------------------------\n",
      "| [ModelTrainer: ]: Model Trainer: ADA |\n",
      "----------------------------------------\n"
     ]
    }
   ],
   "source": [
    "from src.prediction.ada_model_trainer import AdaModelTrainer\n",
    "\n",
    "ada_model_trainer = AdaModelTrainer(\n",
    "    ada_drag_config=(100, 42),\n",
    "    ada_max_temp_config=(100, 42),\n",
    "    ada_avg_temp_config=(100, 42),\n",
    "    grid_bound=GRID_BOUND,\n",
    "    grid_bound_width=GRID_W,\n",
    "    grid_resolution=GRID_RESOLUTION,\n",
    "    grid_scale=GRID_SCALE,\n",
    "    desired_variance=0.9,\n",
    ")"
   ]
  },
  {
   "cell_type": "markdown",
   "metadata": {},
   "source": [
    "# F. Define CRT model (Unstable)"
   ]
  },
  {
   "cell_type": "code",
   "execution_count": 7,
   "metadata": {},
   "outputs": [
    {
     "name": "stdout",
     "output_type": "stream",
     "text": [
      "----------------------------------------\n",
      "| [ModelTrainer: ]: Model Trainer: CRT |\n",
      "----------------------------------------\n"
     ]
    }
   ],
   "source": [
    "from src.prediction.crt_model_trainer import CrtModelTrainer\n",
    "\n",
    "crt_model_trainer = CrtModelTrainer(\n",
    "    crt_drag_config=42,\n",
    "    crt_avg_temp_config=42,\n",
    "    crt_max_temp_config=42,\n",
    "    grid_bound=GRID_BOUND,\n",
    "    grid_bound_width=GRID_W,\n",
    "    grid_resolution=GRID_RESOLUTION,\n",
    "    grid_scale=GRID_SCALE,\n",
    "    desired_variance=0.9,\n",
    ")"
   ]
  },
  {
   "cell_type": "markdown",
   "metadata": {},
   "source": [
    "# Collect test models"
   ]
  },
  {
   "cell_type": "code",
   "execution_count": 8,
   "metadata": {},
   "outputs": [],
   "source": [
    "from typing import Literal, Union\n",
    "from src.prediction.model_trainer import ModelTrainer\n",
    "\n",
    "\n",
    "test_models: list[tuple[ModelTrainer, Union[Literal[\"with_std\", \"without_std\"]]]] = [\n",
    "    (gpr_model_trainer, \"with_std\"),\n",
    "    (rf_model_trainer, \"without_std\"),\n",
    "    (etr_model_trainer, \"without_std\"),\n",
    "    (ensem_model_trainer, \"without_std\"),\n",
    "    (ada_model_trainer, \"without_std\"),\n",
    "    # (crt_model_trainer, \"without_std\"),\n",
    "]"
   ]
  },
  {
   "cell_type": "markdown",
   "metadata": {},
   "source": [
    "# Test suite functions\n",
    "\n",
    "1. with `std`: gaussian based regressions\n",
    "    - `test_model_with_std__train_set`: test model with respect to original train input source.\n",
    "    - `test_model_with_std__pattern`: test model with respect to new `list[Pattern]` data set. \n",
    "2. without `std`: basic regressions\n",
    "    - `test_model_without_std__train_set`: test model with respect to original train input source.\n",
    "    - `test_model_without_std__pattern`: test model with respect to new `list[Pattern]` data set. \n",
    "\n",
    "3. Benchmark all models"
   ]
  },
  {
   "cell_type": "code",
   "execution_count": 9,
   "metadata": {},
   "outputs": [],
   "source": [
    "from src.geometry.pattern_unit import Pattern\n",
    "from src.prediction.model_trainer import ModelTrainer\n",
    "from src.prediction.to_model_input import to_model_input\n",
    "from src.prediction.model_metrics import ModelMetrics\n",
    "\n",
    "\n",
    "def test_model_with_std__train_set(model_trainer: ModelTrainer):\n",
    "    res = model_trainer.get_train_set()\n",
    "    model = model_trainer.get_model()\n",
    "\n",
    "    if res is None:\n",
    "        return\n",
    "\n",
    "    x, y = res\n",
    "\n",
    "    test = x[1:3]\n",
    "    test_res = y[1:3]\n",
    "\n",
    "    metrics = ModelMetrics(\n",
    "        test_kit=test_res\n",
    "        )\n",
    "\n",
    "    drag, std1 = model[0].predict(test, return_std=True)\n",
    "    met1 = metrics.drag_metrics(drag_pred=drag)       #metric : r^2\n",
    "    avg_temp, std2 = model[1].predict(test, return_std=True)\n",
    "    met2= metrics.ave_temp_metrics(ave_temp_pred=avg_temp)        #metric : MSE\n",
    "    max_temp, std3 = model[2].predict(test, return_std=True)\n",
    "    met3 = metrics.max_temp_metrics(max_temp_pred=max_temp)       #metric : MAE\n",
    "\n",
    "    print(\"-\" * 100)\n",
    "\n",
    "    print(f\">> {model_trainer.model_name} test for train_set input\\n\")\n",
    "    print(\">> real: [0.29223466, 372.84985, 452.61221]\")\n",
    "    print(\">> predicted: \", drag, avg_temp, max_temp)\n",
    "    print(\">> std: \", std1, std2, std3)\n",
    "    print(\">> met: \", met1, met2, met3)\n",
    "\n",
    "    print(\"-\" * 100)\n",
    "\n",
    "\n",
    "def test_model_without_std__train_set(model_trainer: ModelTrainer):\n",
    "    model = model_trainer.get_model()\n",
    "    res = model_trainer.get_train_set()\n",
    "\n",
    "    if res is None:\n",
    "        return\n",
    "\n",
    "    x, y = res\n",
    "\n",
    "\n",
    "\n",
    "\n",
    "    test = x[1:3]\n",
    "    test_res = y[1:3]\n",
    "\n",
    "    metrics = ModelMetrics(\n",
    "        test_kit=test_res\n",
    "        )\n",
    "    \n",
    "    drag = model[0].predict(test)\n",
    "    met1 = metrics.drag_metrics(drag_pred=drag)       #metric : r^2\n",
    "    avg_temp = model[1].predict(test)\n",
    "    met2= metrics.ave_temp_metrics(ave_temp_pred=avg_temp)        #metric : MSE\n",
    "    max_temp = model[2].predict(test)\n",
    "    met3 = metrics.max_temp_metrics(max_temp_pred=max_temp)       #metric : MAE\n",
    "\n",
    "    print(\"-\" * 100)\n",
    "\n",
    "    print(f\">> {model_trainer.model_name} test for train_set input\\n\")\n",
    "    print(\">> real: \", test_res)\n",
    "    print(\">> predicted: \", drag, avg_temp, max_temp)\n",
    "    print(\">> met: \", met1, met2, met3)\n",
    "\n",
    "    print(\"-\" * 100)\n",
    "\n",
    "\n",
    "def test_model_without_std__pattern(\n",
    "    model_trainer: ModelTrainer, test_pattern: list[Pattern]\n",
    "):\n",
    "    print(\"-\" * 100)\n",
    "\n",
    "    print(f\"Loading {model_trainer.model_name} model, pca...\")\n",
    "    model = model_trainer.get_model()\n",
    "    pca = model_trainer.get_pca()\n",
    "\n",
    "    print(f\">> {model_trainer.model_name} test for train_set input\\n\")\n",
    "\n",
    "    for i, pattern in enumerate(test_pattern):\n",
    "        ins = to_model_input(\n",
    "            pca,\n",
    "            pattern_matrix=pattern.pattern_matrix,\n",
    "            bound=GRID_BOUND,\n",
    "            resolution=1 / GRID_RESOLUTION,\n",
    "        )\n",
    "\n",
    "        drag = model[0].predict(ins)\n",
    "        avg_temp = model[1].predict(ins)\n",
    "        max_temp = model[2].predict(ins)\n",
    "\n",
    "        print(f\">> test-{i} input prediction\")\n",
    "        print(f\">> prediction: {drag}, {avg_temp}, {max_temp}\")\n",
    "\n",
    "    print(\"-\" * 100)\n",
    "\n",
    "\n",
    "def test_model_with_std__pattern(\n",
    "    model_trainer: ModelTrainer, test_pattern: list[Pattern]\n",
    "):\n",
    "    print(\"-\" * 100)\n",
    "    print(f\"Loading {model_trainer.model_name} model, pca...\")\n",
    "    model = model_trainer.get_model()\n",
    "    pca = model_trainer.get_pca()\n",
    "\n",
    "    print(f\">> {model_trainer.model_name} test for train_set input\\n\")\n",
    "\n",
    "    for i, pattern in enumerate(test_pattern):\n",
    "        ins = to_model_input(\n",
    "            pca,\n",
    "            pattern_matrix=pattern.pattern_matrix,\n",
    "            bound=GRID_BOUND,\n",
    "            resolution=1 / GRID_RESOLUTION,\n",
    "        )\n",
    "\n",
    "        drag, std = model[0].predict(ins, return_std=True)\n",
    "        avg_temp, std2 = model[1].predict(ins, return_std=True)\n",
    "        max_temp, std3 = model[2].predict(ins, return_std=True)\n",
    "\n",
    "        print(f\">> test-{i} input prediction\")\n",
    "        print(f\">> prediction: {drag}, std: {std}\")\n",
    "        print(f\">> prediction: {avg_temp}, std: {std2}\")\n",
    "        print(f\">> prediction: {max_temp}, std: {std3}\")\n",
    "\n",
    "    print(\"-\" * 100)\n",
    "\n",
    "\n",
    "def bench_all_models(\n",
    "    models: list[tuple[ModelTrainer, Union[Literal[\"with_std\", \"without_std\"]]]],\n",
    "    test_pattern: list[Pattern],\n",
    "):\n",
    "    for model, std in models:\n",
    "        if std == \"with_std\":\n",
    "            test_model_with_std__train_set(model)\n",
    "            test_model_with_std__pattern(model, test_pattern)\n",
    "        else:\n",
    "            test_model_without_std__train_set(model)\n",
    "            test_model_without_std__pattern(model, test_pattern)"
   ]
  },
  {
   "cell_type": "markdown",
   "metadata": {},
   "source": [
    "# Generate test input data"
   ]
  },
  {
   "cell_type": "code",
   "execution_count": 10,
   "metadata": {},
   "outputs": [
    {
     "data": {
      "image/png": "[encoded data removed]",
      "text/plain": [
       "<Figure size 1000x1000 with 1 Axes>"
      ]
     },
     "metadata": {},
     "output_type": "display_data"
    },
    {
     "data": {
      "image/png": "[encoded data removed]",
      "text/plain": [
       "<Figure size 1000x1000 with 1 Axes>"
      ]
     },
     "metadata": {},
     "output_type": "display_data"
    }
   ],
   "source": [
    "from src.grid.visualize_points import visualize_points\n",
    "from src.geometry.pattern_unit import (\n",
    "    PatternUnit,\n",
    "    Shape,\n",
    "    PatternTransformation,\n",
    "    PatternTransformationMatrix,\n",
    "    Pattern,\n",
    ")\n",
    "\n",
    "pattern1 = Pattern(\n",
    "    pattern_transformation_matrix=PatternTransformationMatrix(\n",
    "        pattern_unit=PatternUnit(\n",
    "            Shape(\n",
    "                w=10,\n",
    "                h=7.5,\n",
    "                area_functions=[lambda x, y: x**2 / 16 + y**2 / 9 <= 1],\n",
    "            ),\n",
    "            k=1 / GRID_RESOLUTION,\n",
    "        ),\n",
    "        pattern_transformation=PatternTransformation(\n",
    "            \"circular\",\n",
    "            dx=2.5,\n",
    "            di=25,\n",
    "            phi=np.pi / 7,\n",
    "        ),\n",
    "        pattern_bound=GRID_BOUND,\n",
    "    ),\n",
    ")\n",
    "\n",
    "visualize_points(\n",
    "    pattern1.pattern_matrix,\n",
    "    k=1 / GRID_RESOLUTION,\n",
    ")\n",
    "\n",
    "pattern2 = Pattern(\n",
    "    pattern_transformation_matrix=PatternTransformationMatrix(\n",
    "        pattern_unit=PatternUnit(\n",
    "            Shape(\n",
    "                w=10,\n",
    "                h=5,\n",
    "                area_functions=[lambda x, y: x**2 / 9 + y**2 / 2 <= 1],\n",
    "            ),\n",
    "            k=1 / GRID_RESOLUTION,\n",
    "        ),\n",
    "        pattern_transformation=PatternTransformation(\n",
    "            \"grid\",\n",
    "            dx=10,\n",
    "            di=10 / 2,\n",
    "        ),\n",
    "        pattern_bound=GRID_BOUND,\n",
    "    ),\n",
    ")\n",
    "visualize_points(\n",
    "    pattern2.pattern_matrix,\n",
    "    k=1 / GRID_RESOLUTION,\n",
    ")"
   ]
  },
  {
   "cell_type": "markdown",
   "metadata": {},
   "source": [
    "# Run tests"
   ]
  },
  {
   "cell_type": "code",
   "execution_count": 11,
   "metadata": {},
   "outputs": [
    {
     "name": "stdout",
     "output_type": "stream",
     "text": [
      "-------------------------------------------------\n",
      "| [ModelTrainer: ]: Training set found, loading |\n",
      "-------------------------------------------------\n",
      "-------------------------------------------------\n",
      "| [ModelTrainer: ]: Training set found, loading |\n",
      "-------------------------------------------------\n"
     ]
    },
    {
     "name": "stderr",
     "output_type": "stream",
     "text": [
      "C:\\Users\\eaton\\AppData\\Local\\Packages\\PythonSoftwareFoundation.Python.3.11_qbz5n2kfra8p0\\LocalCache\\local-packages\\Python311\\site-packages\\sklearn\\gaussian_process\\kernels.py:445: ConvergenceWarning: The optimal value found for dimension 0 of parameter k1__constant_value is close to the specified lower bound 0.01. Decreasing the bound and calling fit again may find a better value.\n",
      "  warnings.warn(\n",
      "C:\\Users\\eaton\\AppData\\Local\\Packages\\PythonSoftwareFoundation.Python.3.11_qbz5n2kfra8p0\\LocalCache\\local-packages\\Python311\\site-packages\\sklearn\\gaussian_process\\kernels.py:455: ConvergenceWarning: The optimal value found for dimension 0 of parameter k2__length_scale is close to the specified upper bound 100.0. Increasing the bound and calling fit again may find a better value.\n",
      "  warnings.warn(\n",
      "C:\\Users\\eaton\\AppData\\Local\\Packages\\PythonSoftwareFoundation.Python.3.11_qbz5n2kfra8p0\\LocalCache\\local-packages\\Python311\\site-packages\\sklearn\\gaussian_process\\kernels.py:455: ConvergenceWarning: The optimal value found for dimension 0 of parameter k1__constant_value is close to the specified upper bound 100.0. Increasing the bound and calling fit again may find a better value.\n",
      "  warnings.warn(\n",
      "C:\\Users\\eaton\\AppData\\Local\\Packages\\PythonSoftwareFoundation.Python.3.11_qbz5n2kfra8p0\\LocalCache\\local-packages\\Python311\\site-packages\\sklearn\\gaussian_process\\_gpr.py:659: ConvergenceWarning: lbfgs failed to converge (status=2):\n",
      "ABNORMAL_TERMINATION_IN_LNSRCH.\n",
      "\n",
      "Increase the number of iterations (max_iter) or scale the data as shown in:\n",
      "    https://scikit-learn.org/stable/modules/preprocessing.html\n",
      "  _check_optimize_result(\"lbfgs\", opt_res)\n",
      "C:\\Users\\eaton\\AppData\\Local\\Packages\\PythonSoftwareFoundation.Python.3.11_qbz5n2kfra8p0\\LocalCache\\local-packages\\Python311\\site-packages\\sklearn\\gaussian_process\\kernels.py:455: ConvergenceWarning: The optimal value found for dimension 0 of parameter k1__constant_value is close to the specified upper bound 100.0. Increasing the bound and calling fit again may find a better value.\n",
      "  warnings.warn(\n"
     ]
    },
    {
     "name": "stdout",
     "output_type": "stream",
     "text": [
      "----------------------------------------------------------------------------------------------------\n",
      ">> gpr test for train_set input\n",
      "\n",
      ">> real: [0.29223466, 372.84985, 452.61221]\n",
      ">> predicted:  [0.2923495  0.29273559] [372.84898235 370.88567422] [452.61196569 445.03630726]\n",
      ">> std:  [0.00213808 0.00127747] [0.03162023 0.03160561] [0.03162219 0.03161966]\n",
      ">> met:  -3.3666369188825556 1.6979866835796803e-06 0.0010157876875211969\n",
      "----------------------------------------------------------------------------------------------------\n",
      "----------------------------------------------------------------------------------------------------\n",
      "Loading gpr model, pca...\n",
      "-------------------------------------------------\n",
      "| [ModelTrainer: ]: Training set found, loading |\n",
      "-------------------------------------------------\n",
      "------------------------------------------------------\n",
      "| [ModelTrainer: ]: PCA optimal founding initialized |\n",
      "------------------------------------------------------\n",
      "---------------------------------------------------------------------------------\n",
      "| [ModelTrainer: ]: Optimal feature count founded: 45 for desired variance: 0.9 |\n",
      "---------------------------------------------------------------------------------\n",
      ">> gpr test for train_set input\n",
      "\n",
      ">> test-0 input prediction\n",
      ">> prediction: [0.29318688], std: [0.00183064]\n",
      ">> prediction: [378.22454174], std: [1.42683698]\n",
      ">> prediction: [477.64185716], std: [3.24759955]\n",
      ">> test-1 input prediction\n",
      ">> prediction: [0.29413115], std: [0.00157743]\n",
      ">> prediction: [394.45768722], std: [1.27008788]\n",
      ">> prediction: [508.08433967], std: [2.92945927]\n",
      "----------------------------------------------------------------------------------------------------\n",
      "-------------------------------------------------\n",
      "| [ModelTrainer: ]: Training set found, loading |\n",
      "-------------------------------------------------\n",
      "-------------------------------------------------\n",
      "| [ModelTrainer: ]: Training set found, loading |\n",
      "-------------------------------------------------\n",
      "----------------------------------------------------------------------------------------------------\n",
      ">> random_forest test for train_set input\n",
      "\n",
      ">> real:  [[2.9223466e-01 3.7284985e+02 4.5261221e+02]\n",
      " [2.9244569e-01 3.7088730e+02 4.4503452e+02]]\n",
      ">> predicted:  [0.29221925 0.29266649] [373.818635  371.7821679] [456.0194106 449.6668902]\n",
      ">> met:  -1.2001080703641205 0.8696664673371481 4.019785399999989\n",
      "----------------------------------------------------------------------------------------------------\n",
      "----------------------------------------------------------------------------------------------------\n",
      "Loading random_forest model, pca...\n",
      "-------------------------------------------------\n",
      "| [ModelTrainer: ]: Training set found, loading |\n",
      "-------------------------------------------------\n",
      "------------------------------------------------------\n",
      "| [ModelTrainer: ]: PCA optimal founding initialized |\n",
      "------------------------------------------------------\n",
      "---------------------------------------------------------------------------------\n",
      "| [ModelTrainer: ]: Optimal feature count founded: 45 for desired variance: 0.9 |\n",
      "---------------------------------------------------------------------------------\n",
      ">> random_forest test for train_set input\n",
      "\n",
      ">> test-0 input prediction\n",
      ">> prediction: [0.29235405], [373.820539], [454.2385515]\n",
      ">> test-1 input prediction\n",
      ">> prediction: [0.29295023], [374.0884969], [456.1935238]\n",
      "----------------------------------------------------------------------------------------------------\n",
      "-------------------------------------------------\n",
      "| [ModelTrainer: ]: Training set found, loading |\n",
      "-------------------------------------------------\n",
      "-------------------------------------------------\n",
      "| [ModelTrainer: ]: Training set found, loading |\n",
      "-------------------------------------------------\n",
      "----------------------------------------------------------------------------------------------------\n",
      ">> etr test for train_set input\n",
      "\n",
      ">> real:  [[2.9223466e-01 3.7284985e+02 4.5261221e+02]\n",
      " [2.9244569e-01 3.7088730e+02 4.4503452e+02]]\n",
      ">> predicted:  [0.29223466 0.29244569] [372.84985 370.8873 ] [452.61221 445.03452]\n",
      ">> met:  1.0 2.5364718002114325e-25 5.115907697472721e-13\n",
      "----------------------------------------------------------------------------------------------------\n",
      "----------------------------------------------------------------------------------------------------\n",
      "Loading etr model, pca...\n",
      "-------------------------------------------------\n",
      "| [ModelTrainer: ]: Training set found, loading |\n",
      "-------------------------------------------------\n",
      "------------------------------------------------------\n",
      "| [ModelTrainer: ]: PCA optimal founding initialized |\n",
      "------------------------------------------------------\n",
      "---------------------------------------------------------------------------------\n",
      "| [ModelTrainer: ]: Optimal feature count founded: 45 for desired variance: 0.9 |\n",
      "---------------------------------------------------------------------------------\n",
      ">> etr test for train_set input\n",
      "\n",
      ">> test-0 input prediction\n",
      ">> prediction: [0.29236355], [373.3224248], [454.081716]\n",
      ">> test-1 input prediction\n",
      ">> prediction: [0.29313095], [373.6386851], [455.312267]\n",
      "----------------------------------------------------------------------------------------------------\n",
      "-------------------------------------------------\n",
      "| [ModelTrainer: ]: Training set found, loading |\n",
      "-------------------------------------------------\n",
      "-------------------------------------------------\n",
      "| [ModelTrainer: ]: Training set found, loading |\n",
      "-------------------------------------------------\n",
      "----------------------------------------------------------------------------------------------------\n",
      ">> ensem test for train_set input\n",
      "\n",
      ">> real:  [[2.9223466e-01 3.7284985e+02 4.5261221e+02]\n",
      " [2.9244569e-01 3.7088730e+02 4.4503452e+02]]\n",
      ">> predicted:  [0.29250328 0.2925545 ] [373.443262 372.74037 ] [454.221354 449.768014]\n",
      ">> met:  -2.772281642538066 1.8930031133219334 3.1713190000000964\n",
      "----------------------------------------------------------------------------------------------------\n",
      "----------------------------------------------------------------------------------------------------\n",
      "Loading ensem model, pca...\n",
      "-------------------------------------------------\n",
      "| [ModelTrainer: ]: Training set found, loading |\n",
      "-------------------------------------------------\n",
      "------------------------------------------------------\n",
      "| [ModelTrainer: ]: PCA optimal founding initialized |\n",
      "------------------------------------------------------\n",
      "---------------------------------------------------------------------------------\n",
      "| [ModelTrainer: ]: Optimal feature count founded: 45 for desired variance: 0.9 |\n",
      "---------------------------------------------------------------------------------\n",
      ">> ensem test for train_set input\n",
      "\n",
      ">> test-0 input prediction\n",
      ">> prediction: [0.29209989], [373.599727], [457.25728]\n",
      ">> test-1 input prediction\n",
      ">> prediction: [0.29321368], [375.330283], [453.963117]\n",
      "----------------------------------------------------------------------------------------------------\n",
      "-------------------------------------------------\n",
      "| [ModelTrainer: ]: Training set found, loading |\n",
      "-------------------------------------------------\n",
      "-------------------------------------------------\n",
      "| [ModelTrainer: ]: Training set found, loading |\n",
      "-------------------------------------------------\n",
      "----------------------------------------------------------------------------------------------------\n",
      ">> ada test for train_set input\n",
      "\n",
      ">> real:  [[2.9223466e-01 3.7284985e+02 4.5261221e+02]\n",
      " [2.9244569e-01 3.7088730e+02 4.4503452e+02]]\n",
      ">> predicted:  [0.29259914 0.2928766 ] [374.21904625 372.68179065] [459.05397986 456.11380056]\n",
      ">> met:  -13.305298164919579 2.5474475232926146 8.760525206349172\n",
      "----------------------------------------------------------------------------------------------------\n",
      "----------------------------------------------------------------------------------------------------\n",
      "Loading ada model, pca...\n",
      "-------------------------------------------------\n",
      "| [ModelTrainer: ]: Training set found, loading |\n",
      "-------------------------------------------------\n",
      "------------------------------------------------------\n",
      "| [ModelTrainer: ]: PCA optimal founding initialized |\n",
      "------------------------------------------------------\n",
      "---------------------------------------------------------------------------------\n",
      "| [ModelTrainer: ]: Optimal feature count founded: 45 for desired variance: 0.9 |\n",
      "---------------------------------------------------------------------------------\n",
      ">> ada test for train_set input\n",
      "\n",
      ">> test-0 input prediction\n",
      ">> prediction: [0.29262283], [371.81037206], [450.45536196]\n",
      ">> test-1 input prediction\n",
      ">> prediction: [0.29278361], [374.50607297], [455.16360312]\n",
      "----------------------------------------------------------------------------------------------------\n"
     ]
    }
   ],
   "source": [
    "bench_all_models(test_models, [pattern1, pattern2])"
   ]
  },
  {
   "cell_type": "markdown",
   "metadata": {},
   "source": []
  },
  {
   "cell_type": "markdown",
   "metadata": {},
   "source": []
  },
  {
   "cell_type": "markdown",
   "metadata": {},
   "source": [
    "## GPR prev result tests\n",
    "\n",
    "### A1. `(-30, 30), res: 3`\n",
    "```bash\n",
    "(1, 106)\n",
    "(1, 106)\n",
    ">> ins1 prediction\n",
    ">> prediction: [0.29497703], std: [0.00218427]\n",
    ">> prediction: [392.91214535], std: [0.95447247]\n",
    ">> prediction: [518.54214407], std: [2.37395765]\n",
    ">> ins2 prediction\n",
    ">> prediction: [0.29466794], std: [0.00233069]\n",
    ">> prediction: [390.18615569], std: [1.01531236]\n",
    ">> prediction: [504.76525881], std: [2.51555504]\n",
    "```\n",
    "\n",
    "### A2. `(-30, 30), res: 2`\n",
    "```bash\n",
    "(1, 107)\n",
    "(1, 107)\n",
    ">> ins1 prediction\n",
    ">> prediction: [0.29583199], std: [0.00382364]\n",
    ">> prediction: [383.75400754], std: [0.84201941]\n",
    ">> prediction: [498.071324], std: [2.23880663]\n",
    ">> ins2 prediction\n",
    ">> prediction: [0.29814156], std: [0.00481413]\n",
    ">> prediction: [390.5626691], std: [1.08056385]\n",
    ">> prediction: [516.80923951], std: [2.82949011]\n",
    "```\n",
    "\n",
    "### B1. `(-50, 50), res: 2`\n",
    "```bash\n",
    "(1, 107)\n",
    "(1, 107)\n",
    ">> ins1 prediction\n",
    ">> prediction: [0.29855318], std: [0.00413844]\n",
    ">> prediction: [395.1396864], std: [0.9193178]\n",
    ">> prediction: [531.81106611], std: [2.43499191]\n",
    ">> ins2 prediction\n",
    ">> prediction: [0.29737008], std: [0.00495669]\n",
    ">> prediction: [393.6109499], std: [1.11294301]\n",
    ">> prediction: [525.46977552], std: [2.90263788]\n",
    "```"
   ]
  }
 ],
 "metadata": {
  "kernelspec": {
   "display_name": ".venv",
   "language": "python",
   "name": "python3"
  },
  "language_info": {
   "codemirror_mode": {
    "name": "ipython",
    "version": 3
   },
   "file_extension": ".py",
   "mimetype": "text/x-python",
   "name": "python",
   "nbconvert_exporter": "python",
   "pygments_lexer": "ipython3",
   "version": "3.11.9"
  }
 },
 "nbformat": 4,
 "nbformat_minor": 2
}
