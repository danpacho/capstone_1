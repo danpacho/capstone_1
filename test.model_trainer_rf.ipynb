{
 "cells": [
  {
   "cell_type": "code",
   "execution_count": 1,
   "metadata": {},
   "outputs": [],
   "source": [
    "_HOLE_BOUND = ((-10, 10), (-10, 10))  # Hole boundary -10 <= x <= 10, -10 <= y <= 10\n",
    "\n",
    "GRID_SCALE = 1\n",
    "GRID_RESOLUTION = 2\n",
    "GRID_W = 60\n",
    "GRID_BOUND = ((-GRID_W / 2, GRID_W / 2), (-GRID_W / 2, GRID_W / 2))"
   ]
  },
  {
   "cell_type": "code",
   "execution_count": 2,
   "metadata": {},
   "outputs": [
    {
     "name": "stdout",
     "output_type": "stream",
     "text": [
      "--------------------------------\n",
      "| Model Trainer: Random_Forest |\n",
      "--------------------------------\n",
      "----------------------------------------------\n",
      "| Training set not found, creating a new one |\n",
      "----------------------------------------------\n",
      "-----------------------------------------------------------------------------------------------\n",
      "| Parsing result from c:\\Users\\eaton\\Desktop\\Campus\\Capstone\\capstone_1\\model\\data\\result.csv |\n",
      "-----------------------------------------------------------------------------------------------\n",
      "---------------------------\n",
      "| Getting point data list |\n",
      "---------------------------\n",
      "------------------------------------\n",
      "| PCA optimal founding initialized |\n",
      "------------------------------------\n",
      "----------------------------------------------------------------\n",
      "| Optimal feature count founded: 107 for desired variance: 0.9 |\n",
      "----------------------------------------------------------------\n",
      "Reduction input saved to train_input.npy\n"
     ]
    }
   ],
   "source": [
    "from src.prediction.rf_model_trainer import rfModelTrainer\n",
    "\n",
    "model_trainer = rfModelTrainer(\n",
    "    rf_drag_config=(100, 42),\n",
    "    rf_max_temp_config=(100, 42),\n",
    "    rf_avg_temp_config=(100, 42),\n",
    "    grid_bound=GRID_BOUND,\n",
    "    grid_bound_width=GRID_W,\n",
    "    grid_resolution=GRID_RESOLUTION,\n",
    "    grid_scale=GRID_SCALE,\n",
    "    desired_variance=0.9,\n",
    ")\n",
    "\n",
    "rf_model = model_trainer.get_model()\n",
    "pca_model = model_trainer.get_pca()"
   ]
  },
  {
   "cell_type": "markdown",
   "metadata": {},
   "source": []
  },
  {
   "cell_type": "code",
   "execution_count": 3,
   "metadata": {},
   "outputs": [
    {
     "name": "stdout",
     "output_type": "stream",
     "text": [
      "-------------------------------\n",
      "| Training set found, loading |\n",
      "-------------------------------\n"
     ]
    },
    {
     "ename": "TypeError",
     "evalue": "ForestRegressor.predict() got an unexpected keyword argument 'return_std'",
     "output_type": "error",
     "traceback": [
      "\u001b[1;31m---------------------------------------------------------------------------\u001b[0m",
      "\u001b[1;31mTypeError\u001b[0m                                 Traceback (most recent call last)",
      "Cell \u001b[1;32mIn[3], line 9\u001b[0m\n\u001b[0;32m      6\u001b[0m x, y \u001b[38;5;241m=\u001b[39m res\n\u001b[0;32m      8\u001b[0m test \u001b[38;5;241m=\u001b[39m x[\u001b[38;5;241m1\u001b[39m:\u001b[38;5;241m2\u001b[39m]\n\u001b[1;32m----> 9\u001b[0m drag, std1 \u001b[38;5;241m=\u001b[39m \u001b[43mrf_model\u001b[49m\u001b[43m[\u001b[49m\u001b[38;5;241;43m0\u001b[39;49m\u001b[43m]\u001b[49m\u001b[38;5;241;43m.\u001b[39;49m\u001b[43mpredict\u001b[49m\u001b[43m(\u001b[49m\u001b[43mtest\u001b[49m\u001b[43m,\u001b[49m\u001b[43m \u001b[49m\u001b[43mreturn_std\u001b[49m\u001b[38;5;241;43m=\u001b[39;49m\u001b[38;5;28;43;01mTrue\u001b[39;49;00m\u001b[43m)\u001b[49m\n\u001b[0;32m     10\u001b[0m avg_temp, std2 \u001b[38;5;241m=\u001b[39m rf_model[\u001b[38;5;241m1\u001b[39m]\u001b[38;5;241m.\u001b[39mpredict(test, return_std\u001b[38;5;241m=\u001b[39m\u001b[38;5;28;01mTrue\u001b[39;00m)\n\u001b[0;32m     11\u001b[0m max_temp, std3 \u001b[38;5;241m=\u001b[39m rf_model[\u001b[38;5;241m2\u001b[39m]\u001b[38;5;241m.\u001b[39mpredict(test, return_std\u001b[38;5;241m=\u001b[39m\u001b[38;5;28;01mTrue\u001b[39;00m)\n",
      "\u001b[1;31mTypeError\u001b[0m: ForestRegressor.predict() got an unexpected keyword argument 'return_std'"
     ]
    }
   ],
   "source": [
    "import numpy as np\n",
    "\n",
    "res = model_trainer.get_train_set()\n",
    "\n",
    "if res is not None:\n",
    "    x, y = res\n",
    "\n",
    "    test = x[1:2]\n",
    "    drag, std1 = rf_model[0].predict(test, return_std=True)\n",
    "    avg_temp, std2 = rf_model[1].predict(test, return_std=True)\n",
    "    max_temp, std3 = rf_model[2].predict(test, return_std=True)\n",
    "\n",
    "    print(\"real: [0.29223466, 372.84985, 452.61221]\")\n",
    "    print(\"predicted: \", drag, avg_temp, max_temp)\n",
    "    print(\"std: \", std1, std2, std3)"
   ]
  },
  {
   "cell_type": "code",
   "execution_count": null,
   "metadata": {},
   "outputs": [],
   "source": [
    "from src.grid.visualize_points import visualize_points\n",
    "from src.geometry.pattern_unit import (\n",
    "    PatternUnit,\n",
    "    Shape,\n",
    "    PatternTransformation,\n",
    "    PatternTransformationMatrix,\n",
    "    Pattern,\n",
    ")\n",
    "\n",
    "pattern1 = Pattern(\n",
    "    pattern_transformation_matrix=PatternTransformationMatrix(\n",
    "        pattern_unit=PatternUnit(\n",
    "            Shape(\n",
    "                w=10,\n",
    "                h=7.5,\n",
    "                area_functions=[\n",
    "                    lambda x, y: x**2 / 16 + y**2 / 9 <= 1\n",
    "                    and x**2 + y**2 >= 4,  # Donut\n",
    "                ],\n",
    "            ),\n",
    "            k=1 / GRID_RESOLUTION,\n",
    "        ),\n",
    "        pattern_transformation=PatternTransformation(\n",
    "            \"circular\",\n",
    "            dx=2.5,\n",
    "            di=25,\n",
    "            phi=np.pi / 7,\n",
    "        ),\n",
    "        pattern_bound=GRID_BOUND,\n",
    "    ),\n",
    ")\n",
    "\n",
    "visualize_points(\n",
    "    pattern1.pattern_matrix,\n",
    "    k=1 / GRID_RESOLUTION,\n",
    ")\n",
    "\n",
    "pattern2 = Pattern(\n",
    "    pattern_transformation_matrix=PatternTransformationMatrix(\n",
    "        pattern_unit=PatternUnit(\n",
    "            Shape(\n",
    "                w=10,\n",
    "                h=5,\n",
    "                area_functions=[lambda x, y: x**2 / 9 + y**2 / 2 <= 1],\n",
    "            ),\n",
    "            k=1 / GRID_RESOLUTION,\n",
    "        ),\n",
    "        pattern_transformation=PatternTransformation(\n",
    "            \"grid\",\n",
    "            dx=10,\n",
    "            di=10 / 2,\n",
    "        ),\n",
    "        pattern_bound=GRID_BOUND,\n",
    "    ),\n",
    ")\n",
    "visualize_points(\n",
    "    pattern2.pattern_matrix,\n",
    "    k=1 / GRID_RESOLUTION,\n",
    ")"
   ]
  },
  {
   "cell_type": "code",
   "execution_count": null,
   "metadata": {},
   "outputs": [],
   "source": [
    "from src.prediction.to_rf_input import to_rf_input\n",
    "\n",
    "ins = to_rf_input(\n",
    "    pca_model,\n",
    "    pattern_matrix=pattern1.pattern_matrix,\n",
    "    bound=GRID_BOUND,\n",
    "    resolution=1 / GRID_RESOLUTION,\n",
    ")\n",
    "ins2 = to_rf_input(\n",
    "    pca_model,\n",
    "    pattern_matrix=pattern2.pattern_matrix,\n",
    "    bound=GRID_BOUND,\n",
    "    resolution=1 / GRID_RESOLUTION,\n",
    ")\n",
    "print(ins.shape)\n",
    "print(ins2.shape)\n",
    "\n",
    "drag, std = rf_model[0].predict(ins, return_std=True)\n",
    "avg_temp, std2 = rf_model[1].predict(ins, return_std=True)\n",
    "max_temp, std3 = rf_model[2].predict(ins, return_std=True)\n",
    "\n",
    "print(\"ins1 prediction\")\n",
    "print(f\"prediction: {drag}, std: {std}\")\n",
    "print(f\"prediction: {avg_temp}, std: {std2}\")\n",
    "print(f\"prediction: {max_temp}, std: {std3}\")\n",
    "\n",
    "drag, std = rf_model[0].predict(ins2, return_std=True)\n",
    "avg_temp, std2 = rf_model[1].predict(ins2, return_std=True)\n",
    "max_temp, std3 = rf_model[2].predict(ins2, return_std=True)\n",
    "print(\"ins2 prediction\")\n",
    "print(f\"prediction: {drag}, std: {std}\")\n",
    "print(f\"prediction: {avg_temp}, std: {std2}\")\n",
    "print(f\"prediction: {max_temp}, std: {std3}\")"
   ]
  }
 ],
 "metadata": {
  "kernelspec": {
   "display_name": ".venv",
   "language": "python",
   "name": "python3"
  },
  "language_info": {
   "codemirror_mode": {
    "name": "ipython",
    "version": 3
   },
   "file_extension": ".py",
   "mimetype": "text/x-python",
   "name": "python",
   "nbconvert_exporter": "python",
   "pygments_lexer": "ipython3",
   "version": "3.11.9"
  }
 },
 "nbformat": 4,
 "nbformat_minor": 2
}
